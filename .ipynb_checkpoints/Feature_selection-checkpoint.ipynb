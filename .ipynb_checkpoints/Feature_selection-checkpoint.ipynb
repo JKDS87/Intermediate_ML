{
 "cells": [
  {
   "cell_type": "markdown",
   "id": "84c2ec51-1266-4546-8187-275285005fb6",
   "metadata": {},
   "source": [
    "## Feature Selection 1"
   ]
  },
  {
   "cell_type": "markdown",
   "id": "10aa1f80-8cef-4f07-a310-90d8444e33ab",
   "metadata": {},
   "source": [
    "**Objectives**\n",
    "- List the three general methods of feature selection\n",
    "- Apply examples of filter methods for feature selection"
   ]
  },
  {
   "cell_type": "markdown",
   "id": "596962c2-cb41-483c-bea5-40e99b61669c",
   "metadata": {},
   "source": [
    "### Feature Selection\n",
    "- The process of reducing the number of features used in modeling. This can improve model performance, speed up the model, and address the 'curse of dimensionality'\n",
    "- The three general methods of feature selection:\n",
    "    - Filter Methods\n",
    "    - Embedded Methods\n",
    "    - Wrapper Methods\n",
    "\n",
    "**Methods overview**\n",
    "- Filter methods\n",
    "    - Relies on features' charcteristics, with the selection process not relying on machine learning models.\n",
    "    - Ideal for quick screening and removing irrelevant or poorly performing features.\n",
    "    - Pros: model agnostic, less computationally expensive than other models.\n",
    "    - Cons: lower improvement in model performance vs other models.\n",
    "- Embedded methods\n",
    "    - Will perform feature selection as part of the modeling/training process.\n",
    "    - Pros: Consider the interactions between features and models. Less computationally expensive than Wrapper methods (only fit 1 time vs many times)\n",
    "    - Cons: Features can only be selected with certain models. Selected features may not always be appropriate for different model types.\n",
    "- Wrapper methods\n",
    "    - Use predictive machine learning models to score various subsets of features.\n",
    "    - A new model is trained and tested for each feature subset to obtain the highest-performing list of features.\n",
    "    - Pros: Provides the best-performing subset for a given model type\n",
    "    - Cons: Very computationally expensive\n",
    "    - May not produce the best feature ccombos for different methods"
   ]
  }
 ],
 "metadata": {
  "kernelspec": {
   "display_name": "Python 3 (ipykernel)",
   "language": "python",
   "name": "python3"
  },
  "language_info": {
   "codemirror_mode": {
    "name": "ipython",
    "version": 3
   },
   "file_extension": ".py",
   "mimetype": "text/x-python",
   "name": "python",
   "nbconvert_exporter": "python",
   "pygments_lexer": "ipython3",
   "version": "3.10.10"
  },
  "widgets": {
   "application/vnd.jupyter.widget-state+json": {
    "state": {},
    "version_major": 2,
    "version_minor": 0
   }
  }
 },
 "nbformat": 4,
 "nbformat_minor": 5
}
