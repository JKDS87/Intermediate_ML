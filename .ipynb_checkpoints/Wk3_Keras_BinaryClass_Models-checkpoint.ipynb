{
 "cells": [
  {
   "cell_type": "markdown",
   "id": "ecdc852c-e1a6-4639-adc3-2bd935f5158c",
   "metadata": {},
   "source": [
    "# Binary Classification in Keras"
   ]
  },
  {
   "cell_type": "markdown",
   "id": "68732842-55fd-4504-9513-13d6b5553a4f",
   "metadata": {},
   "source": [
    "**Objective:** \n",
    "- Build a forward-feed model for binary classification using appropriate output layers, loss functions, and metrics in Keras.\n",
    "- Evaluate a feed-forward binary classification model created in Keras using Sci-Kit Learn metric functions.\n",
    "\n",
    "As you recall, a classification problem is when you try to predict a discrete, finite, and non-overlapping number of classes. Binary classification is when predicting which of exactly 2 classes a sample belongs to. One example would be predicting if a tumor was malignant or benign. Let’s try this in Keras.\n",
    "\n",
    "**In this lesson, we will:**\n",
    "1. Import necessary libraries.\n",
    "2. Load and process the data.\n",
    "3. Build a feed-forawrd classification model with an appropriate output layer and loss function.\n",
    "4. Evaluate the model using classification metrics and a confusion matrix."
   ]
  },
  {
   "cell_type": "code",
   "execution_count": 1,
   "id": "de7b2f4d-9b96-43f0-a69f-1ef488aeec86",
   "metadata": {},
   "outputs": [],
   "source": [
    "# Imports\n",
    "import pandas as pd\n",
    "import numpy as np\n",
    "import matplotlib.pyplot as plt\n",
    " \n",
    "#Keras\n",
    "from tensorflow.keras import Sequential\n",
    "from tensorflow.keras import metrics\n",
    "from tensorflow.keras.layers import Dense, Dropout\n",
    " \n",
    "#Sci-kit Learn\n",
    "from sklearn.metrics import classification_report, ConfusionMatrixDisplay\n",
    "from sklearn.preprocessing import StandardScaler\n",
    "from sklearn.model_selection import train_test_split"
   ]
  },
  {
   "cell_type": "code",
   "execution_count": 2,
   "id": "18bc008d-9ee6-4826-970f-196e7e4825db",
   "metadata": {},
   "outputs": [],
   "source": [
    "# Custom function for plotting each metric\n",
    "def plot_history(history, figsize=(6,12), marker='o'):\n",
    "       \n",
    "    # Get list of metrics from history\n",
    "    metrics = [c for c in history.history if not c.startswith('val_')]\n",
    "    \n",
    "    ## Separate row for each metric\n",
    "    fig, axes = plt.subplots(nrows=len(metrics),figsize=figsize)\n",
    "    \n",
    "    # For each metric\n",
    "    for i, metric_name in enumerate(metrics):\n",
    "    \n",
    "        # Get the axis for the current metric\n",
    "        ax = axes[i]\n",
    "    \n",
    "        # Get metric from history.history\n",
    "        metric_values = history.history[metric_name]\n",
    "        # Get epochs from history\n",
    "        epochs = history.epoch\n",
    "    \n",
    "        # Plot the training metric\n",
    "        ax.plot(epochs, metric_values, label=metric_name, marker=marker)\n",
    "    \n",
    "        ## Check if val_{metric} exists. if so, plot:\n",
    "        val_metric_name = f\"val_{metric_name}\"\n",
    "        if val_metric_name in history.history:\n",
    "            # Get validation values and plot\n",
    "            metric_values = history.history[val_metric_name]\n",
    "            ax.plot(epochs,metric_values,label=val_metric_name, marker=marker)\n",
    "    \n",
    "        # Final subplot adjustments \n",
    "        ax.legend()\n",
    "        ax.set_title(metric_name)\n",
    "    fig.tight_layout()\n",
    "\n",
    "    return fig, axes"
   ]
  },
  {
   "cell_type": "markdown",
   "id": "27b32d6c-188a-45fc-9a97-334e71e2d585",
   "metadata": {
    "jp-MarkdownHeadingCollapsed": true
   },
   "source": [
    "## Load and process data"
   ]
  },
  {
   "cell_type": "markdown",
   "id": "34fa16e9-2f48-4e06-a5c3-a21dfad28914",
   "metadata": {},
   "source": [
    "This dataset was taken from the University of Irvine Machine Learning Repository and describes the cell nuclei of breast tumors. It was first presented in 1992. The labels are ‘M’ for malignant and ‘B’ for benign tumors."
   ]
  },
  {
   "cell_type": "code",
   "execution_count": 3,
   "id": "ba85cc6f-b0ac-4d9c-8606-f3505ced91ee",
   "metadata": {},
   "outputs": [
    {
     "data": {
      "text/html": [
       "<div>\n",
       "<style scoped>\n",
       "    .dataframe tbody tr th:only-of-type {\n",
       "        vertical-align: middle;\n",
       "    }\n",
       "\n",
       "    .dataframe tbody tr th {\n",
       "        vertical-align: top;\n",
       "    }\n",
       "\n",
       "    .dataframe thead th {\n",
       "        text-align: right;\n",
       "    }\n",
       "</style>\n",
       "<table border=\"1\" class=\"dataframe\">\n",
       "  <thead>\n",
       "    <tr style=\"text-align: right;\">\n",
       "      <th></th>\n",
       "      <th>id</th>\n",
       "      <th>diagnosis</th>\n",
       "      <th>radius_mean</th>\n",
       "      <th>texture_mean</th>\n",
       "      <th>perimeter_mean</th>\n",
       "      <th>area_mean</th>\n",
       "      <th>smoothness_mean</th>\n",
       "      <th>compactness_mean</th>\n",
       "      <th>concavity_mean</th>\n",
       "      <th>concave points_mean</th>\n",
       "      <th>...</th>\n",
       "      <th>radius_worst</th>\n",
       "      <th>texture_worst</th>\n",
       "      <th>perimeter_worst</th>\n",
       "      <th>area_worst</th>\n",
       "      <th>smoothness_worst</th>\n",
       "      <th>compactness_worst</th>\n",
       "      <th>concavity_worst</th>\n",
       "      <th>concave points_worst</th>\n",
       "      <th>symmetry_worst</th>\n",
       "      <th>fractal_dimension_worst</th>\n",
       "    </tr>\n",
       "  </thead>\n",
       "  <tbody>\n",
       "    <tr>\n",
       "      <th>0</th>\n",
       "      <td>842302</td>\n",
       "      <td>M</td>\n",
       "      <td>17.99</td>\n",
       "      <td>10.38</td>\n",
       "      <td>122.80</td>\n",
       "      <td>1001.0</td>\n",
       "      <td>0.11840</td>\n",
       "      <td>0.27760</td>\n",
       "      <td>0.3001</td>\n",
       "      <td>0.14710</td>\n",
       "      <td>...</td>\n",
       "      <td>25.38</td>\n",
       "      <td>17.33</td>\n",
       "      <td>184.60</td>\n",
       "      <td>2019.0</td>\n",
       "      <td>0.1622</td>\n",
       "      <td>0.6656</td>\n",
       "      <td>0.7119</td>\n",
       "      <td>0.2654</td>\n",
       "      <td>0.4601</td>\n",
       "      <td>0.11890</td>\n",
       "    </tr>\n",
       "    <tr>\n",
       "      <th>1</th>\n",
       "      <td>842517</td>\n",
       "      <td>M</td>\n",
       "      <td>20.57</td>\n",
       "      <td>17.77</td>\n",
       "      <td>132.90</td>\n",
       "      <td>1326.0</td>\n",
       "      <td>0.08474</td>\n",
       "      <td>0.07864</td>\n",
       "      <td>0.0869</td>\n",
       "      <td>0.07017</td>\n",
       "      <td>...</td>\n",
       "      <td>24.99</td>\n",
       "      <td>23.41</td>\n",
       "      <td>158.80</td>\n",
       "      <td>1956.0</td>\n",
       "      <td>0.1238</td>\n",
       "      <td>0.1866</td>\n",
       "      <td>0.2416</td>\n",
       "      <td>0.1860</td>\n",
       "      <td>0.2750</td>\n",
       "      <td>0.08902</td>\n",
       "    </tr>\n",
       "    <tr>\n",
       "      <th>2</th>\n",
       "      <td>84300903</td>\n",
       "      <td>M</td>\n",
       "      <td>19.69</td>\n",
       "      <td>21.25</td>\n",
       "      <td>130.00</td>\n",
       "      <td>1203.0</td>\n",
       "      <td>0.10960</td>\n",
       "      <td>0.15990</td>\n",
       "      <td>0.1974</td>\n",
       "      <td>0.12790</td>\n",
       "      <td>...</td>\n",
       "      <td>23.57</td>\n",
       "      <td>25.53</td>\n",
       "      <td>152.50</td>\n",
       "      <td>1709.0</td>\n",
       "      <td>0.1444</td>\n",
       "      <td>0.4245</td>\n",
       "      <td>0.4504</td>\n",
       "      <td>0.2430</td>\n",
       "      <td>0.3613</td>\n",
       "      <td>0.08758</td>\n",
       "    </tr>\n",
       "    <tr>\n",
       "      <th>3</th>\n",
       "      <td>84348301</td>\n",
       "      <td>M</td>\n",
       "      <td>11.42</td>\n",
       "      <td>20.38</td>\n",
       "      <td>77.58</td>\n",
       "      <td>386.1</td>\n",
       "      <td>0.14250</td>\n",
       "      <td>0.28390</td>\n",
       "      <td>0.2414</td>\n",
       "      <td>0.10520</td>\n",
       "      <td>...</td>\n",
       "      <td>14.91</td>\n",
       "      <td>26.50</td>\n",
       "      <td>98.87</td>\n",
       "      <td>567.7</td>\n",
       "      <td>0.2098</td>\n",
       "      <td>0.8663</td>\n",
       "      <td>0.6869</td>\n",
       "      <td>0.2575</td>\n",
       "      <td>0.6638</td>\n",
       "      <td>0.17300</td>\n",
       "    </tr>\n",
       "    <tr>\n",
       "      <th>4</th>\n",
       "      <td>84358402</td>\n",
       "      <td>M</td>\n",
       "      <td>20.29</td>\n",
       "      <td>14.34</td>\n",
       "      <td>135.10</td>\n",
       "      <td>1297.0</td>\n",
       "      <td>0.10030</td>\n",
       "      <td>0.13280</td>\n",
       "      <td>0.1980</td>\n",
       "      <td>0.10430</td>\n",
       "      <td>...</td>\n",
       "      <td>22.54</td>\n",
       "      <td>16.67</td>\n",
       "      <td>152.20</td>\n",
       "      <td>1575.0</td>\n",
       "      <td>0.1374</td>\n",
       "      <td>0.2050</td>\n",
       "      <td>0.4000</td>\n",
       "      <td>0.1625</td>\n",
       "      <td>0.2364</td>\n",
       "      <td>0.07678</td>\n",
       "    </tr>\n",
       "  </tbody>\n",
       "</table>\n",
       "<p>5 rows × 32 columns</p>\n",
       "</div>"
      ],
      "text/plain": [
       "         id diagnosis  radius_mean  texture_mean  perimeter_mean  area_mean  \\\n",
       "0    842302         M        17.99         10.38          122.80     1001.0   \n",
       "1    842517         M        20.57         17.77          132.90     1326.0   \n",
       "2  84300903         M        19.69         21.25          130.00     1203.0   \n",
       "3  84348301         M        11.42         20.38           77.58      386.1   \n",
       "4  84358402         M        20.29         14.34          135.10     1297.0   \n",
       "\n",
       "   smoothness_mean  compactness_mean  concavity_mean  concave points_mean  \\\n",
       "0          0.11840           0.27760          0.3001              0.14710   \n",
       "1          0.08474           0.07864          0.0869              0.07017   \n",
       "2          0.10960           0.15990          0.1974              0.12790   \n",
       "3          0.14250           0.28390          0.2414              0.10520   \n",
       "4          0.10030           0.13280          0.1980              0.10430   \n",
       "\n",
       "   ...  radius_worst  texture_worst  perimeter_worst  area_worst  \\\n",
       "0  ...         25.38          17.33           184.60      2019.0   \n",
       "1  ...         24.99          23.41           158.80      1956.0   \n",
       "2  ...         23.57          25.53           152.50      1709.0   \n",
       "3  ...         14.91          26.50            98.87       567.7   \n",
       "4  ...         22.54          16.67           152.20      1575.0   \n",
       "\n",
       "   smoothness_worst  compactness_worst  concavity_worst  concave points_worst  \\\n",
       "0            0.1622             0.6656           0.7119                0.2654   \n",
       "1            0.1238             0.1866           0.2416                0.1860   \n",
       "2            0.1444             0.4245           0.4504                0.2430   \n",
       "3            0.2098             0.8663           0.6869                0.2575   \n",
       "4            0.1374             0.2050           0.4000                0.1625   \n",
       "\n",
       "   symmetry_worst  fractal_dimension_worst  \n",
       "0          0.4601                  0.11890  \n",
       "1          0.2750                  0.08902  \n",
       "2          0.3613                  0.08758  \n",
       "3          0.6638                  0.17300  \n",
       "4          0.2364                  0.07678  \n",
       "\n",
       "[5 rows x 32 columns]"
      ]
     },
     "execution_count": 3,
     "metadata": {},
     "output_type": "execute_result"
    }
   ],
   "source": [
    "# load classification data\n",
    "clf_url = 'https://docs.google.com/spreadsheets/d/e/2PACX-1vTZf6XIYPLjxmCS8BzzEot1DaW4ns7P2q1CVqnZ6qw9f-A3bkCPbXX3H9vOE2_zrGKSxy4ZMaTf7lt4/pub?output=csv'\n",
    "df_clf = pd.read_csv(clf_url)\n",
    "df_clf.head()"
   ]
  },
  {
   "cell_type": "markdown",
   "id": "8f93aebd-f723-4e8b-8f5d-2dbb3e18c821",
   "metadata": {},
   "source": [
    "Check for duplicates, data types, and missing values."
   ]
  },
  {
   "cell_type": "code",
   "execution_count": 4,
   "id": "6c140dbf-af48-4bc8-a3ce-fa76f9083d5c",
   "metadata": {},
   "outputs": [
    {
     "name": "stdout",
     "output_type": "stream",
     "text": [
      "<class 'pandas.core.frame.DataFrame'>\n",
      "RangeIndex: 569 entries, 0 to 568\n",
      "Data columns (total 32 columns):\n",
      " #   Column                   Non-Null Count  Dtype  \n",
      "---  ------                   --------------  -----  \n",
      " 0   id                       569 non-null    int64  \n",
      " 1   diagnosis                569 non-null    object \n",
      " 2   radius_mean              569 non-null    float64\n",
      " 3   texture_mean             569 non-null    float64\n",
      " 4   perimeter_mean           569 non-null    float64\n",
      " 5   area_mean                569 non-null    float64\n",
      " 6   smoothness_mean          569 non-null    float64\n",
      " 7   compactness_mean         569 non-null    float64\n",
      " 8   concavity_mean           569 non-null    float64\n",
      " 9   concave points_mean      569 non-null    float64\n",
      " 10  symmetry_mean            569 non-null    float64\n",
      " 11  fractal_dimension_mean   569 non-null    float64\n",
      " 12  radius_se                569 non-null    float64\n",
      " 13  texture_se               569 non-null    float64\n",
      " 14  perimeter_se             569 non-null    float64\n",
      " 15  area_se                  569 non-null    float64\n",
      " 16  smoothness_se            569 non-null    float64\n",
      " 17  compactness_se           569 non-null    float64\n",
      " 18  concavity_se             569 non-null    float64\n",
      " 19  concave points_se        569 non-null    float64\n",
      " 20  symmetry_se              569 non-null    float64\n",
      " 21  fractal_dimension_se     569 non-null    float64\n",
      " 22  radius_worst             569 non-null    float64\n",
      " 23  texture_worst            569 non-null    float64\n",
      " 24  perimeter_worst          569 non-null    float64\n",
      " 25  area_worst               569 non-null    float64\n",
      " 26  smoothness_worst         569 non-null    float64\n",
      " 27  compactness_worst        569 non-null    float64\n",
      " 28  concavity_worst          569 non-null    float64\n",
      " 29  concave points_worst     569 non-null    float64\n",
      " 30  symmetry_worst           569 non-null    float64\n",
      " 31  fractal_dimension_worst  569 non-null    float64\n",
      "dtypes: float64(30), int64(1), object(1)\n",
      "memory usage: 142.4+ KB\n",
      "data info: None\n",
      "\n",
      " duplicate rows: 0\n"
     ]
    }
   ],
   "source": [
    "# check for duplicates and null values\n",
    "print(f'data info: {df_clf.info()}')\n",
    "print(f'\\n duplicate rows: {df_clf.duplicated().sum()}')"
   ]
  },
  {
   "cell_type": "markdown",
   "id": "89d76cde-66f7-48f2-91d4-b73092f43693",
   "metadata": {},
   "source": [
    "There is no missing data, no duplicates, and all features are numeric except for the target. Keras models do not accept strings as targets like Sci-kit Learn models, so we will need to encode the labels. In this case, we will just use a simple .replace() call. We will also drop the ‘id’ column since it doesn’t contain any information about the tumor."
   ]
  },
  {
   "cell_type": "code",
   "execution_count": 5,
   "id": "b3be5903-8687-47af-99bf-d077ccafdda9",
   "metadata": {},
   "outputs": [
    {
     "data": {
      "text/html": [
       "<div>\n",
       "<style scoped>\n",
       "    .dataframe tbody tr th:only-of-type {\n",
       "        vertical-align: middle;\n",
       "    }\n",
       "\n",
       "    .dataframe tbody tr th {\n",
       "        vertical-align: top;\n",
       "    }\n",
       "\n",
       "    .dataframe thead th {\n",
       "        text-align: right;\n",
       "    }\n",
       "</style>\n",
       "<table border=\"1\" class=\"dataframe\">\n",
       "  <thead>\n",
       "    <tr style=\"text-align: right;\">\n",
       "      <th></th>\n",
       "      <th>diagnosis</th>\n",
       "      <th>radius_mean</th>\n",
       "      <th>texture_mean</th>\n",
       "      <th>perimeter_mean</th>\n",
       "      <th>area_mean</th>\n",
       "      <th>smoothness_mean</th>\n",
       "      <th>compactness_mean</th>\n",
       "      <th>concavity_mean</th>\n",
       "      <th>concave points_mean</th>\n",
       "      <th>symmetry_mean</th>\n",
       "      <th>...</th>\n",
       "      <th>radius_worst</th>\n",
       "      <th>texture_worst</th>\n",
       "      <th>perimeter_worst</th>\n",
       "      <th>area_worst</th>\n",
       "      <th>smoothness_worst</th>\n",
       "      <th>compactness_worst</th>\n",
       "      <th>concavity_worst</th>\n",
       "      <th>concave points_worst</th>\n",
       "      <th>symmetry_worst</th>\n",
       "      <th>fractal_dimension_worst</th>\n",
       "    </tr>\n",
       "  </thead>\n",
       "  <tbody>\n",
       "    <tr>\n",
       "      <th>0</th>\n",
       "      <td>1</td>\n",
       "      <td>17.99</td>\n",
       "      <td>10.38</td>\n",
       "      <td>122.80</td>\n",
       "      <td>1001.0</td>\n",
       "      <td>0.11840</td>\n",
       "      <td>0.27760</td>\n",
       "      <td>0.3001</td>\n",
       "      <td>0.14710</td>\n",
       "      <td>0.2419</td>\n",
       "      <td>...</td>\n",
       "      <td>25.38</td>\n",
       "      <td>17.33</td>\n",
       "      <td>184.60</td>\n",
       "      <td>2019.0</td>\n",
       "      <td>0.1622</td>\n",
       "      <td>0.6656</td>\n",
       "      <td>0.7119</td>\n",
       "      <td>0.2654</td>\n",
       "      <td>0.4601</td>\n",
       "      <td>0.11890</td>\n",
       "    </tr>\n",
       "    <tr>\n",
       "      <th>1</th>\n",
       "      <td>1</td>\n",
       "      <td>20.57</td>\n",
       "      <td>17.77</td>\n",
       "      <td>132.90</td>\n",
       "      <td>1326.0</td>\n",
       "      <td>0.08474</td>\n",
       "      <td>0.07864</td>\n",
       "      <td>0.0869</td>\n",
       "      <td>0.07017</td>\n",
       "      <td>0.1812</td>\n",
       "      <td>...</td>\n",
       "      <td>24.99</td>\n",
       "      <td>23.41</td>\n",
       "      <td>158.80</td>\n",
       "      <td>1956.0</td>\n",
       "      <td>0.1238</td>\n",
       "      <td>0.1866</td>\n",
       "      <td>0.2416</td>\n",
       "      <td>0.1860</td>\n",
       "      <td>0.2750</td>\n",
       "      <td>0.08902</td>\n",
       "    </tr>\n",
       "    <tr>\n",
       "      <th>2</th>\n",
       "      <td>1</td>\n",
       "      <td>19.69</td>\n",
       "      <td>21.25</td>\n",
       "      <td>130.00</td>\n",
       "      <td>1203.0</td>\n",
       "      <td>0.10960</td>\n",
       "      <td>0.15990</td>\n",
       "      <td>0.1974</td>\n",
       "      <td>0.12790</td>\n",
       "      <td>0.2069</td>\n",
       "      <td>...</td>\n",
       "      <td>23.57</td>\n",
       "      <td>25.53</td>\n",
       "      <td>152.50</td>\n",
       "      <td>1709.0</td>\n",
       "      <td>0.1444</td>\n",
       "      <td>0.4245</td>\n",
       "      <td>0.4504</td>\n",
       "      <td>0.2430</td>\n",
       "      <td>0.3613</td>\n",
       "      <td>0.08758</td>\n",
       "    </tr>\n",
       "    <tr>\n",
       "      <th>3</th>\n",
       "      <td>1</td>\n",
       "      <td>11.42</td>\n",
       "      <td>20.38</td>\n",
       "      <td>77.58</td>\n",
       "      <td>386.1</td>\n",
       "      <td>0.14250</td>\n",
       "      <td>0.28390</td>\n",
       "      <td>0.2414</td>\n",
       "      <td>0.10520</td>\n",
       "      <td>0.2597</td>\n",
       "      <td>...</td>\n",
       "      <td>14.91</td>\n",
       "      <td>26.50</td>\n",
       "      <td>98.87</td>\n",
       "      <td>567.7</td>\n",
       "      <td>0.2098</td>\n",
       "      <td>0.8663</td>\n",
       "      <td>0.6869</td>\n",
       "      <td>0.2575</td>\n",
       "      <td>0.6638</td>\n",
       "      <td>0.17300</td>\n",
       "    </tr>\n",
       "    <tr>\n",
       "      <th>4</th>\n",
       "      <td>1</td>\n",
       "      <td>20.29</td>\n",
       "      <td>14.34</td>\n",
       "      <td>135.10</td>\n",
       "      <td>1297.0</td>\n",
       "      <td>0.10030</td>\n",
       "      <td>0.13280</td>\n",
       "      <td>0.1980</td>\n",
       "      <td>0.10430</td>\n",
       "      <td>0.1809</td>\n",
       "      <td>...</td>\n",
       "      <td>22.54</td>\n",
       "      <td>16.67</td>\n",
       "      <td>152.20</td>\n",
       "      <td>1575.0</td>\n",
       "      <td>0.1374</td>\n",
       "      <td>0.2050</td>\n",
       "      <td>0.4000</td>\n",
       "      <td>0.1625</td>\n",
       "      <td>0.2364</td>\n",
       "      <td>0.07678</td>\n",
       "    </tr>\n",
       "  </tbody>\n",
       "</table>\n",
       "<p>5 rows × 31 columns</p>\n",
       "</div>"
      ],
      "text/plain": [
       "   diagnosis  radius_mean  texture_mean  perimeter_mean  area_mean  \\\n",
       "0          1        17.99         10.38          122.80     1001.0   \n",
       "1          1        20.57         17.77          132.90     1326.0   \n",
       "2          1        19.69         21.25          130.00     1203.0   \n",
       "3          1        11.42         20.38           77.58      386.1   \n",
       "4          1        20.29         14.34          135.10     1297.0   \n",
       "\n",
       "   smoothness_mean  compactness_mean  concavity_mean  concave points_mean  \\\n",
       "0          0.11840           0.27760          0.3001              0.14710   \n",
       "1          0.08474           0.07864          0.0869              0.07017   \n",
       "2          0.10960           0.15990          0.1974              0.12790   \n",
       "3          0.14250           0.28390          0.2414              0.10520   \n",
       "4          0.10030           0.13280          0.1980              0.10430   \n",
       "\n",
       "   symmetry_mean  ...  radius_worst  texture_worst  perimeter_worst  \\\n",
       "0         0.2419  ...         25.38          17.33           184.60   \n",
       "1         0.1812  ...         24.99          23.41           158.80   \n",
       "2         0.2069  ...         23.57          25.53           152.50   \n",
       "3         0.2597  ...         14.91          26.50            98.87   \n",
       "4         0.1809  ...         22.54          16.67           152.20   \n",
       "\n",
       "   area_worst  smoothness_worst  compactness_worst  concavity_worst  \\\n",
       "0      2019.0            0.1622             0.6656           0.7119   \n",
       "1      1956.0            0.1238             0.1866           0.2416   \n",
       "2      1709.0            0.1444             0.4245           0.4504   \n",
       "3       567.7            0.2098             0.8663           0.6869   \n",
       "4      1575.0            0.1374             0.2050           0.4000   \n",
       "\n",
       "   concave points_worst  symmetry_worst  fractal_dimension_worst  \n",
       "0                0.2654          0.4601                  0.11890  \n",
       "1                0.1860          0.2750                  0.08902  \n",
       "2                0.2430          0.3613                  0.08758  \n",
       "3                0.2575          0.6638                  0.17300  \n",
       "4                0.1625          0.2364                  0.07678  \n",
       "\n",
       "[5 rows x 31 columns]"
      ]
     },
     "execution_count": 5,
     "metadata": {},
     "output_type": "execute_result"
    }
   ],
   "source": [
    "# drop id and encode diagnosis\n",
    "df_clf.drop(columns='id', inplace=True)\n",
    "df_clf['diagnosis'].replace(['M','B'],[1,0], inplace=True)\n",
    "df_clf.head()"
   ]
  },
  {
   "cell_type": "markdown",
   "id": "b18b2323-ec5a-4e3f-ab4d-3cc54892c054",
   "metadata": {},
   "source": [
    "Since this is classification and our class balance is very important in both model performance and evaluation, let’s check the balance of classes."
   ]
  },
  {
   "cell_type": "code",
   "execution_count": 6,
   "id": "f9f1d9f4-e851-4d21-8ecb-9de68d53a8f4",
   "metadata": {},
   "outputs": [
    {
     "data": {
      "text/plain": [
       "0    357\n",
       "1    212\n",
       "Name: diagnosis, dtype: int64"
      ]
     },
     "execution_count": 6,
     "metadata": {},
     "output_type": "execute_result"
    }
   ],
   "source": [
    "# check classes and balance\n",
    "df_clf['diagnosis'].value_counts()"
   ]
  },
  {
   "cell_type": "markdown",
   "id": "c5358e7c-39a2-45d3-b637-1820c4220af0",
   "metadata": {},
   "source": [
    "The imbalance is not too bad, about 2:3. We will just need to remember this to understand our accuracy score.\n",
    "\n",
    "Next, we split the data."
   ]
  },
  {
   "cell_type": "code",
   "execution_count": 7,
   "id": "a44837e2-7cc8-485e-ae7b-60bec2c9f14a",
   "metadata": {},
   "outputs": [],
   "source": [
    "# Split data\n",
    "X = df_clf.drop(columns='diagnosis')\n",
    "y = df_clf['diagnosis']\n",
    " \n",
    "X_train, X_test, y_train, y_test = train_test_split(X, y, random_state=42)"
   ]
  },
  {
   "cell_type": "markdown",
   "id": "90788118-dfef-41bd-9d70-0cc8351749d6",
   "metadata": {},
   "source": [
    "Since all of the features are numeric and there are no missing values, we can just scale it. Remember to always scale your data before using it for deep learning."
   ]
  },
  {
   "cell_type": "code",
   "execution_count": 8,
   "id": "e57043fe-e490-4d35-9f70-d17586c64b77",
   "metadata": {},
   "outputs": [],
   "source": [
    "# Scale data\n",
    "scaler = StandardScaler()\n",
    "X_train_tf = scaler.fit_transform(X_train)\n",
    "X_test_tf = scaler.transform(X_test)"
   ]
  },
  {
   "cell_type": "markdown",
   "id": "36599586-d1d7-4ebd-b71e-191c4334b562",
   "metadata": {},
   "source": [
    "## Build Model"
   ]
  },
  {
   "cell_type": "code",
   "execution_count": 9,
   "id": "f5ec08ae-7020-434b-8e98-9c2614f86421",
   "metadata": {},
   "outputs": [
    {
     "data": {
      "text/plain": [
       "30"
      ]
     },
     "execution_count": 9,
     "metadata": {},
     "output_type": "execute_result"
    }
   ],
   "source": [
    "# Define input shape\n",
    "input_shape = X_train_tf.shape[1]\n",
    "input_shape"
   ]
  },
  {
   "cell_type": "markdown",
   "id": "c97390e3-89ec-4bb0-a28f-c5f672651a44",
   "metadata": {},
   "source": [
    "We will build a simple model with two hidden layers and 10 nodes in each layer. We will pass the number of features in the data to the input_dim= argument of the first layer so that Keras knows how to construct the implicit input layer.\r\n",
    "\r\n",
    "Since this is binary classification, the output layer will have one node and a ‘sigmoid’ activation function. The sigmoid function will change any value passed to it to a value between 0 and 1. That works because our classes in our target are 0 and 1. "
   ]
  },
  {
   "cell_type": "markdown",
   "id": "04e2685d-e7a0-4f03-96d6-e18071f0c315",
   "metadata": {},
   "source": [
    "**Loss**\n",
    "\n",
    "We use a binary cross-entropy loss function, or ‘bce.’ Recall that the loss function should always decrease as the model learns, so we need some metric that decreases as the model improves. Metrics like accuracy or f1-score won’t work as a loss because they increase in value as the model converges to a good solution. Binary cross-entropy decreases as the error rate decreases. If you want to know more about loss functions, what they do, and when each should be used, you can research the documentation at https://keras.io/api/losses/"
   ]
  },
  {
   "cell_type": "markdown",
   "id": "65daf029-736f-419d-97c8-85953ff483d3",
   "metadata": {},
   "source": [
    "**Optimizer**\n",
    "\n",
    "There are many options for optimizers, which tend to improve the learning speed of a model. Adam is a popular one. You can research others at https://keras.io/api/optimizers/."
   ]
  },
  {
   "cell_type": "markdown",
   "id": "61a01b73-aece-4046-95f7-2accfa62cc76",
   "metadata": {},
   "source": [
    "**Metrics**\n",
    "\n",
    "The .compile() method lets us pass additional metrics to be tracked for each learning epoch. If we want to see how they change as the model learns, we can list them here.\r\n",
    "\r\n",
    "This method recognizes some metrics as string shortcuts, such as ‘accuracy,’ but others must be passed as class instances, such as metrics.Recall(). These class instances work differently than Sci-kit Learn's functions for evaluation purposes. They fit on the specific data for the model and should not be reused. Instantiate a new instance of each metrics class for each model iteration.\r\n",
    "\r\n",
    "There is no native class for the f1-score metric; however, creating custom metric classes is possible. The code for some implementations of the f1-score is available online. They are a little complicated, but you could copy and paste them with attribution if you wanted to.\r\n",
    "\r\n",
    "You can learn more about available metrics here: https://keras.io/api/metrics/\r\n",
    "\r\n",
    "We will wrap our model within a build function."
   ]
  },
  {
   "cell_type": "code",
   "execution_count": 10,
   "id": "fa604cbb-f0ba-4c6f-a6c3-0ceb0c92a24e",
   "metadata": {},
   "outputs": [],
   "source": [
    "# Build binary classification model within function\n",
    "def build_model():\n",
    "    # Instantiate Model \n",
    "    model = Sequential()\n",
    "    \n",
    "    # First hidden layer\n",
    "    model.add(Dense(10, # How many neurons you have in your first hidden layer\n",
    "                input_dim =input_shape, # What is the shape of your input features (number of columns)\n",
    "                activation = 'relu')) # What activation function are you using?\n",
    "    model.add(Dense(10, \n",
    "                activation = 'relu'))\n",
    "    model.add(Dropout(.2))\n",
    "    model.add(Dense(1, activation = 'sigmoid'))\n",
    "    \n",
    "    # Compile Model\n",
    "    model.compile(loss = 'bce', optimizer = 'adam',\n",
    "             metrics=['accuracy', metrics.Precision(), metrics.Recall()])\n",
    "    return model"
   ]
  },
  {
   "cell_type": "markdown",
   "id": "d2b2241d-f323-4e1f-8e5b-dcbee7eabce5",
   "metadata": {},
   "source": [
    "Now we will call the build function and check out the model summary."
   ]
  },
  {
   "cell_type": "code",
   "execution_count": 11,
   "id": "66088a8e-4984-4c2f-bf02-5b10a560ec27",
   "metadata": {},
   "outputs": [
    {
     "name": "stdout",
     "output_type": "stream",
     "text": [
      "Model: \"sequential\"\n",
      "_________________________________________________________________\n",
      " Layer (type)                Output Shape              Param #   \n",
      "=================================================================\n",
      " dense (Dense)               (None, 10)                310       \n",
      "                                                                 \n",
      " dense_1 (Dense)             (None, 10)                110       \n",
      "                                                                 \n",
      " dropout (Dropout)           (None, 10)                0         \n",
      "                                                                 \n",
      " dense_2 (Dense)             (None, 1)                 11        \n",
      "                                                                 \n",
      "=================================================================\n",
      "Total params: 431\n",
      "Trainable params: 431\n",
      "Non-trainable params: 0\n",
      "_________________________________________________________________\n"
     ]
    }
   ],
   "source": [
    "# Call our build function to build model\n",
    "clf_model = build_model()\n",
    "\n",
    "# Get model summary\n",
    "clf_model.summary()"
   ]
  },
  {
   "cell_type": "markdown",
   "id": "331480bc-0646-4ba4-a55d-e0e6000ddeb8",
   "metadata": {},
   "source": [
    "We will include an early stopping callback.\r\n"
   ]
  },
  {
   "cell_type": "code",
   "execution_count": 12,
   "id": "3ed13797-d34b-4ada-8cf6-2673c2d63735",
   "metadata": {},
   "outputs": [],
   "source": [
    "from tensorflow.keras.callbacks import EarlyStopping\n",
    "early_stop = EarlyStopping(monitor='val_loss', patience=3)"
   ]
  },
  {
   "cell_type": "markdown",
   "id": "09440a78-b1f3-4915-8020-67e0166ec3a4",
   "metadata": {},
   "source": [
    "Next, we will fit the model on the data and use a validation split of .2 to identify any overfitting. The model will evaluate itself using all metrics passed in the .compile() call for every epoch on both sets of data, though it will only actually train on the training data. We will also set verbose=0 to avoid the long output of learning metrics by epoch. If you want to see the training metrics in real time, you can change this argument."
   ]
  },
  {
   "cell_type": "code",
   "execution_count": 13,
   "id": "f339d41f-9a56-4f39-bc87-d1e0b55acd39",
   "metadata": {},
   "outputs": [],
   "source": [
    "history = clf_model.fit(X_train_tf, y_train,\n",
    "                        validation_split=.2,\n",
    "                        epochs=100,\n",
    "                        verbose=0, callbacks = [early_stop])"
   ]
  },
  {
   "cell_type": "markdown",
   "id": "0b034bf4-8410-4b6a-bea7-4fa51adb9f2b",
   "metadata": {},
   "source": [
    "Let’s use our custom function to see the history of learning using each of our passed metrics."
   ]
  },
  {
   "cell_type": "code",
   "execution_count": 14,
   "id": "a259ca8f-c8e5-4651-aba2-0b6f78990545",
   "metadata": {},
   "outputs": [
    {
     "data": {
      "image/png": "[encoded data removed]",
      "text/plain": [
       "<Figure size 600x1200 with 4 Axes>"
      ]
     },
     "metadata": {},
     "output_type": "display_data"
    }
   ],
   "source": [
    "# plot learning history\n",
    "plot_history(history);"
   ]
  },
  {
   "cell_type": "markdown",
   "id": "e1ca18c6-e007-4bda-a9aa-465ca84501bd",
   "metadata": {},
   "source": [
    "Learning has leveled off; the train and test set metrics are not too far apart, and the final scores seem pretty good. There don’t appear to be any serious problems with overfitting or underfitting.\n",
    "\n",
    "Let’s look at a classification report and a confusion matrix.\n",
    "\n",
    "We will use the Sci-kit Learn tools for this, but we need to do one step before we can. A sigmoid function doesn’t return just 0s and 1s but a value between those. "
   ]
  },
  {
   "cell_type": "code",
   "execution_count": 15,
   "id": "4c7f5a8b-9f54-4d68-aa4e-51d85a270cc2",
   "metadata": {},
   "outputs": [
    {
     "name": "stdout",
     "output_type": "stream",
     "text": [
      "5/5 [==============================] - 0s 1ms/step\n"
     ]
    },
    {
     "data": {
      "text/plain": [
       "array([[5.5710789e-02],\n",
       "       [9.9861097e-01],\n",
       "       [9.9196988e-01],\n",
       "       [1.0707246e-03],\n",
       "       [1.7448359e-04]], dtype=float32)"
      ]
     },
     "execution_count": 15,
     "metadata": {},
     "output_type": "execute_result"
    }
   ],
   "source": [
    "# make predictions\n",
    "y_pred_test = clf_model.predict(X_test_tf)\n",
    "y_pred_test[:5]"
   ]
  },
  {
   "cell_type": "markdown",
   "id": "2788c42b-8b8c-4e55-a83e-0c3d592ed429",
   "metadata": {},
   "source": [
    "Sci-kit Learn classification metrics can’t handle floats, so we need to round the predictions to the closest integer before using them for evaluation."
   ]
  },
  {
   "cell_type": "code",
   "execution_count": 16,
   "id": "df76ad68-819a-498d-9e3a-a8d7dbc24a2e",
   "metadata": {},
   "outputs": [
    {
     "data": {
      "text/plain": [
       "array([[0.],\n",
       "       [1.],\n",
       "       [1.],\n",
       "       [0.],\n",
       "       [0.]], dtype=float32)"
      ]
     },
     "execution_count": 16,
     "metadata": {},
     "output_type": "execute_result"
    }
   ],
   "source": [
    "# round the predictions\n",
    "y_pred_test = np.round(y_pred_test)\n",
    "y_pred_test[:5]"
   ]
  },
  {
   "cell_type": "markdown",
   "id": "9718bc3c-8c7d-4a10-91b8-1eb0db831832",
   "metadata": {},
   "source": [
    "Now that our predictions are formatted, we can call our sklearn metrics."
   ]
  },
  {
   "cell_type": "code",
   "execution_count": 17,
   "id": "876f0e9c-6c85-432c-b84a-f9debd6c2c4c",
   "metadata": {},
   "outputs": [
    {
     "name": "stdout",
     "output_type": "stream",
     "text": [
      "              precision    recall  f1-score   support\n",
      "\n",
      "           0       0.98      0.99      0.98        89\n",
      "           1       0.98      0.96      0.97        54\n",
      "\n",
      "    accuracy                           0.98       143\n",
      "   macro avg       0.98      0.98      0.98       143\n",
      "weighted avg       0.98      0.98      0.98       143\n",
      "\n"
     ]
    },
    {
     "data": {
      "image/png": "[encoded data removed]",
      "text/plain": [
       "<Figure size 640x480 with 2 Axes>"
      ]
     },
     "metadata": {},
     "output_type": "display_data"
    }
   ],
   "source": [
    "from sklearn.metrics import classification_report,ConfusionMatrixDisplay\n",
    "print(classification_report(y_test, y_pred_test))\n",
    " \n",
    "ConfusionMatrixDisplay.from_predictions(y_test, y_pred_test, cmap='Blues',\n",
    "                                       normalize='true');"
   ]
  },
  {
   "cell_type": "markdown",
   "id": "8f96a778-e999-40e7-b3cd-71e3f9e34db1",
   "metadata": {},
   "source": [
    "This model performed quite well on the test data."
   ]
  },
  {
   "cell_type": "markdown",
   "id": "011e4764-51cc-4a08-8559-a31cf836876b",
   "metadata": {},
   "source": [
    "## Summary"
   ]
  },
  {
   "cell_type": "markdown",
   "id": "bd50c905-5ed5-482b-8215-5f29217843fd",
   "metadata": {},
   "source": [
    "Binary classification models in Keras must have specific features for their output layers, loss functions, and metrics. The output layer must have one node and a sigmoid activation function. The loss function should be binary cross-entropy, or ‘bce.’ We can also pass it other classification metrics to track for each epoch of learning, such as precision, recall, and accuracy. There is no native implementation of the f1-score in Keras. You must round the model predictions to the nearest integer to use Scikit-Learn metrics functions, such as classification_report and ConfustionMatrixDisplay. The sigmoid activation function in the final layer outputs the probability of classes rather than the integer labels."
   ]
  }
 ],
 "metadata": {
  "kernelspec": {
   "display_name": "Python 3 (ipykernel)",
   "language": "python",
   "name": "python3"
  },
  "language_info": {
   "codemirror_mode": {
    "name": "ipython",
    "version": 3
   },
   "file_extension": ".py",
   "mimetype": "text/x-python",
   "name": "python",
   "nbconvert_exporter": "python",
   "pygments_lexer": "ipython3",
   "version": "3.10.10"
  },
  "widgets": {
   "application/vnd.jupyter.widget-state+json": {
    "state": {},
    "version_major": 2,
    "version_minor": 0
   }
  }
 },
 "nbformat": 4,
 "nbformat_minor": 5
}
