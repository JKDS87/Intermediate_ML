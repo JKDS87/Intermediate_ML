{
 "cells": [
  {
   "cell_type": "markdown",
   "id": "cec723c2-da38-4668-9ce9-2fa89ea37159",
   "metadata": {},
   "source": [
    "# Anomaly Detection Core\n",
    "**Student:** Matthew Malueg"
   ]
  },
  {
   "cell_type": "markdown",
   "id": "5315b3fa-60b9-48dc-8b35-e71908d4dac7",
   "metadata": {},
   "source": [
    "## Task"
   ]
  },
  {
   "cell_type": "markdown",
   "id": "565c7d8a-0a12-48fc-b7e4-bfbee9010b2d",
   "metadata": {},
   "source": [
    "- Use anomaly detection techniques to detect credit card fraud.\n",
    "- The stakeholder reports that they have found that about 0.4% of transactions are fraudulent, and 99.6% are valid.\n",
    "- The task will be to locate anomalous transactions in this data using KMeans and IsolationForest models."
   ]
  },
  {
   "cell_type": "markdown",
   "id": "7607898c-bc12-4c42-ba33-b390f8c71844",
   "metadata": {
    "jp-MarkdownHeadingCollapsed": true
   },
   "source": [
    "### Imports, loading"
   ]
  },
  {
   "cell_type": "code",
   "execution_count": 1,
   "id": "7638733e-0684-4511-a376-a362d30a7064",
   "metadata": {},
   "outputs": [],
   "source": [
    "import pandas as pd\n",
    "import matplotlib.pyplot as plt\n",
    "import seaborn as sns\n",
    "import numpy as np\n",
    "\n",
    "from sklearn.preprocessing import StandardScaler\n",
    "from sklearn.ensemble import IsolationForest \n",
    "from sklearn.cluster import KMeans\n",
    "from scipy.spatial.distance import cdist"
   ]
  },
  {
   "cell_type": "code",
   "execution_count": 2,
   "id": "14717670-5571-403c-b983-9df56ae98672",
   "metadata": {},
   "outputs": [
    {
     "data": {
      "text/html": [
       "<div>\n",
       "<style scoped>\n",
       "    .dataframe tbody tr th:only-of-type {\n",
       "        vertical-align: middle;\n",
       "    }\n",
       "\n",
       "    .dataframe tbody tr th {\n",
       "        vertical-align: top;\n",
       "    }\n",
       "\n",
       "    .dataframe thead th {\n",
       "        text-align: right;\n",
       "    }\n",
       "</style>\n",
       "<table border=\"1\" class=\"dataframe\">\n",
       "  <thead>\n",
       "    <tr style=\"text-align: right;\">\n",
       "      <th></th>\n",
       "      <th>V1</th>\n",
       "      <th>V2</th>\n",
       "      <th>V3</th>\n",
       "      <th>V4</th>\n",
       "      <th>V5</th>\n",
       "      <th>V6</th>\n",
       "      <th>V7</th>\n",
       "      <th>V8</th>\n",
       "      <th>V9</th>\n",
       "      <th>V10</th>\n",
       "      <th>...</th>\n",
       "      <th>V20</th>\n",
       "      <th>V21</th>\n",
       "      <th>V22</th>\n",
       "      <th>V23</th>\n",
       "      <th>V24</th>\n",
       "      <th>V25</th>\n",
       "      <th>V26</th>\n",
       "      <th>V27</th>\n",
       "      <th>V28</th>\n",
       "      <th>Amount</th>\n",
       "    </tr>\n",
       "  </thead>\n",
       "  <tbody>\n",
       "    <tr>\n",
       "      <th>0</th>\n",
       "      <td>-1.359807</td>\n",
       "      <td>-0.072781</td>\n",
       "      <td>2.536347</td>\n",
       "      <td>1.378155</td>\n",
       "      <td>-0.338321</td>\n",
       "      <td>0.462388</td>\n",
       "      <td>0.239599</td>\n",
       "      <td>0.098698</td>\n",
       "      <td>0.363787</td>\n",
       "      <td>0.090794</td>\n",
       "      <td>...</td>\n",
       "      <td>0.251412</td>\n",
       "      <td>-0.018307</td>\n",
       "      <td>0.277838</td>\n",
       "      <td>-0.110474</td>\n",
       "      <td>0.066928</td>\n",
       "      <td>0.128539</td>\n",
       "      <td>-0.189115</td>\n",
       "      <td>0.133558</td>\n",
       "      <td>-0.021053</td>\n",
       "      <td>149.62</td>\n",
       "    </tr>\n",
       "    <tr>\n",
       "      <th>1</th>\n",
       "      <td>1.191857</td>\n",
       "      <td>0.266151</td>\n",
       "      <td>0.166480</td>\n",
       "      <td>0.448154</td>\n",
       "      <td>0.060018</td>\n",
       "      <td>-0.082361</td>\n",
       "      <td>-0.078803</td>\n",
       "      <td>0.085102</td>\n",
       "      <td>-0.255425</td>\n",
       "      <td>-0.166974</td>\n",
       "      <td>...</td>\n",
       "      <td>-0.069083</td>\n",
       "      <td>-0.225775</td>\n",
       "      <td>-0.638672</td>\n",
       "      <td>0.101288</td>\n",
       "      <td>-0.339846</td>\n",
       "      <td>0.167170</td>\n",
       "      <td>0.125895</td>\n",
       "      <td>-0.008983</td>\n",
       "      <td>0.014724</td>\n",
       "      <td>2.69</td>\n",
       "    </tr>\n",
       "    <tr>\n",
       "      <th>2</th>\n",
       "      <td>-1.358354</td>\n",
       "      <td>-1.340163</td>\n",
       "      <td>1.773209</td>\n",
       "      <td>0.379780</td>\n",
       "      <td>-0.503198</td>\n",
       "      <td>1.800499</td>\n",
       "      <td>0.791461</td>\n",
       "      <td>0.247676</td>\n",
       "      <td>-1.514654</td>\n",
       "      <td>0.207643</td>\n",
       "      <td>...</td>\n",
       "      <td>0.524980</td>\n",
       "      <td>0.247998</td>\n",
       "      <td>0.771679</td>\n",
       "      <td>0.909412</td>\n",
       "      <td>-0.689281</td>\n",
       "      <td>-0.327642</td>\n",
       "      <td>-0.139097</td>\n",
       "      <td>-0.055353</td>\n",
       "      <td>-0.059752</td>\n",
       "      <td>378.66</td>\n",
       "    </tr>\n",
       "    <tr>\n",
       "      <th>3</th>\n",
       "      <td>-0.966272</td>\n",
       "      <td>-0.185226</td>\n",
       "      <td>1.792993</td>\n",
       "      <td>-0.863291</td>\n",
       "      <td>-0.010309</td>\n",
       "      <td>1.247203</td>\n",
       "      <td>0.237609</td>\n",
       "      <td>0.377436</td>\n",
       "      <td>-1.387024</td>\n",
       "      <td>-0.054952</td>\n",
       "      <td>...</td>\n",
       "      <td>-0.208038</td>\n",
       "      <td>-0.108300</td>\n",
       "      <td>0.005274</td>\n",
       "      <td>-0.190321</td>\n",
       "      <td>-1.175575</td>\n",
       "      <td>0.647376</td>\n",
       "      <td>-0.221929</td>\n",
       "      <td>0.062723</td>\n",
       "      <td>0.061458</td>\n",
       "      <td>123.50</td>\n",
       "    </tr>\n",
       "    <tr>\n",
       "      <th>4</th>\n",
       "      <td>-1.158233</td>\n",
       "      <td>0.877737</td>\n",
       "      <td>1.548718</td>\n",
       "      <td>0.403034</td>\n",
       "      <td>-0.407193</td>\n",
       "      <td>0.095921</td>\n",
       "      <td>0.592941</td>\n",
       "      <td>-0.270533</td>\n",
       "      <td>0.817739</td>\n",
       "      <td>0.753074</td>\n",
       "      <td>...</td>\n",
       "      <td>0.408542</td>\n",
       "      <td>-0.009431</td>\n",
       "      <td>0.798278</td>\n",
       "      <td>-0.137458</td>\n",
       "      <td>0.141267</td>\n",
       "      <td>-0.206010</td>\n",
       "      <td>0.502292</td>\n",
       "      <td>0.219422</td>\n",
       "      <td>0.215153</td>\n",
       "      <td>69.99</td>\n",
       "    </tr>\n",
       "    <tr>\n",
       "      <th>...</th>\n",
       "      <td>...</td>\n",
       "      <td>...</td>\n",
       "      <td>...</td>\n",
       "      <td>...</td>\n",
       "      <td>...</td>\n",
       "      <td>...</td>\n",
       "      <td>...</td>\n",
       "      <td>...</td>\n",
       "      <td>...</td>\n",
       "      <td>...</td>\n",
       "      <td>...</td>\n",
       "      <td>...</td>\n",
       "      <td>...</td>\n",
       "      <td>...</td>\n",
       "      <td>...</td>\n",
       "      <td>...</td>\n",
       "      <td>...</td>\n",
       "      <td>...</td>\n",
       "      <td>...</td>\n",
       "      <td>...</td>\n",
       "      <td>...</td>\n",
       "    </tr>\n",
       "    <tr>\n",
       "      <th>9995</th>\n",
       "      <td>-1.140805</td>\n",
       "      <td>1.364988</td>\n",
       "      <td>1.705569</td>\n",
       "      <td>-0.332468</td>\n",
       "      <td>0.338780</td>\n",
       "      <td>-0.155695</td>\n",
       "      <td>0.982181</td>\n",
       "      <td>-0.556155</td>\n",
       "      <td>1.932499</td>\n",
       "      <td>1.266155</td>\n",
       "      <td>...</td>\n",
       "      <td>0.515617</td>\n",
       "      <td>-0.302928</td>\n",
       "      <td>0.074208</td>\n",
       "      <td>-0.073871</td>\n",
       "      <td>0.157594</td>\n",
       "      <td>-0.491954</td>\n",
       "      <td>0.184607</td>\n",
       "      <td>-0.123496</td>\n",
       "      <td>-0.311603</td>\n",
       "      <td>9.99</td>\n",
       "    </tr>\n",
       "    <tr>\n",
       "      <th>9996</th>\n",
       "      <td>-1.317434</td>\n",
       "      <td>0.500729</td>\n",
       "      <td>2.177423</td>\n",
       "      <td>-0.221457</td>\n",
       "      <td>0.738280</td>\n",
       "      <td>-1.285625</td>\n",
       "      <td>0.472660</td>\n",
       "      <td>-0.296602</td>\n",
       "      <td>1.299262</td>\n",
       "      <td>-0.569598</td>\n",
       "      <td>...</td>\n",
       "      <td>-0.108271</td>\n",
       "      <td>-0.486328</td>\n",
       "      <td>-1.048003</td>\n",
       "      <td>-0.262663</td>\n",
       "      <td>0.275009</td>\n",
       "      <td>0.161061</td>\n",
       "      <td>-0.040818</td>\n",
       "      <td>-0.025942</td>\n",
       "      <td>-0.132984</td>\n",
       "      <td>7.17</td>\n",
       "    </tr>\n",
       "    <tr>\n",
       "      <th>9997</th>\n",
       "      <td>-2.408371</td>\n",
       "      <td>-0.529543</td>\n",
       "      <td>3.236927</td>\n",
       "      <td>-2.485863</td>\n",
       "      <td>-0.465005</td>\n",
       "      <td>-0.342819</td>\n",
       "      <td>-0.749428</td>\n",
       "      <td>0.008470</td>\n",
       "      <td>4.874550</td>\n",
       "      <td>-0.917879</td>\n",
       "      <td>...</td>\n",
       "      <td>-0.152467</td>\n",
       "      <td>-0.367446</td>\n",
       "      <td>0.637362</td>\n",
       "      <td>-0.885188</td>\n",
       "      <td>0.587379</td>\n",
       "      <td>0.694560</td>\n",
       "      <td>-0.070796</td>\n",
       "      <td>0.382392</td>\n",
       "      <td>-0.177974</td>\n",
       "      <td>29.00</td>\n",
       "    </tr>\n",
       "    <tr>\n",
       "      <th>9998</th>\n",
       "      <td>0.116313</td>\n",
       "      <td>0.094182</td>\n",
       "      <td>0.439869</td>\n",
       "      <td>0.875843</td>\n",
       "      <td>2.080461</td>\n",
       "      <td>4.304726</td>\n",
       "      <td>-0.581838</td>\n",
       "      <td>0.801970</td>\n",
       "      <td>1.447210</td>\n",
       "      <td>-0.017145</td>\n",
       "      <td>...</td>\n",
       "      <td>0.387494</td>\n",
       "      <td>0.116751</td>\n",
       "      <td>0.735325</td>\n",
       "      <td>0.165807</td>\n",
       "      <td>0.966368</td>\n",
       "      <td>-1.162912</td>\n",
       "      <td>-0.284162</td>\n",
       "      <td>0.141743</td>\n",
       "      <td>0.044704</td>\n",
       "      <td>61.00</td>\n",
       "    </tr>\n",
       "    <tr>\n",
       "      <th>9999</th>\n",
       "      <td>1.242639</td>\n",
       "      <td>-0.689272</td>\n",
       "      <td>0.987228</td>\n",
       "      <td>-0.351226</td>\n",
       "      <td>-1.146079</td>\n",
       "      <td>0.032046</td>\n",
       "      <td>-1.033154</td>\n",
       "      <td>0.139603</td>\n",
       "      <td>0.800599</td>\n",
       "      <td>0.223849</td>\n",
       "      <td>...</td>\n",
       "      <td>-0.027263</td>\n",
       "      <td>-0.214559</td>\n",
       "      <td>-0.383886</td>\n",
       "      <td>0.146840</td>\n",
       "      <td>0.153943</td>\n",
       "      <td>0.133207</td>\n",
       "      <td>-0.466728</td>\n",
       "      <td>0.007047</td>\n",
       "      <td>0.005768</td>\n",
       "      <td>26.99</td>\n",
       "    </tr>\n",
       "  </tbody>\n",
       "</table>\n",
       "<p>10000 rows × 29 columns</p>\n",
       "</div>"
      ],
      "text/plain": [
       "            V1        V2        V3        V4        V5        V6        V7  \\\n",
       "0    -1.359807 -0.072781  2.536347  1.378155 -0.338321  0.462388  0.239599   \n",
       "1     1.191857  0.266151  0.166480  0.448154  0.060018 -0.082361 -0.078803   \n",
       "2    -1.358354 -1.340163  1.773209  0.379780 -0.503198  1.800499  0.791461   \n",
       "3    -0.966272 -0.185226  1.792993 -0.863291 -0.010309  1.247203  0.237609   \n",
       "4    -1.158233  0.877737  1.548718  0.403034 -0.407193  0.095921  0.592941   \n",
       "...        ...       ...       ...       ...       ...       ...       ...   \n",
       "9995 -1.140805  1.364988  1.705569 -0.332468  0.338780 -0.155695  0.982181   \n",
       "9996 -1.317434  0.500729  2.177423 -0.221457  0.738280 -1.285625  0.472660   \n",
       "9997 -2.408371 -0.529543  3.236927 -2.485863 -0.465005 -0.342819 -0.749428   \n",
       "9998  0.116313  0.094182  0.439869  0.875843  2.080461  4.304726 -0.581838   \n",
       "9999  1.242639 -0.689272  0.987228 -0.351226 -1.146079  0.032046 -1.033154   \n",
       "\n",
       "            V8        V9       V10  ...       V20       V21       V22  \\\n",
       "0     0.098698  0.363787  0.090794  ...  0.251412 -0.018307  0.277838   \n",
       "1     0.085102 -0.255425 -0.166974  ... -0.069083 -0.225775 -0.638672   \n",
       "2     0.247676 -1.514654  0.207643  ...  0.524980  0.247998  0.771679   \n",
       "3     0.377436 -1.387024 -0.054952  ... -0.208038 -0.108300  0.005274   \n",
       "4    -0.270533  0.817739  0.753074  ...  0.408542 -0.009431  0.798278   \n",
       "...        ...       ...       ...  ...       ...       ...       ...   \n",
       "9995 -0.556155  1.932499  1.266155  ...  0.515617 -0.302928  0.074208   \n",
       "9996 -0.296602  1.299262 -0.569598  ... -0.108271 -0.486328 -1.048003   \n",
       "9997  0.008470  4.874550 -0.917879  ... -0.152467 -0.367446  0.637362   \n",
       "9998  0.801970  1.447210 -0.017145  ...  0.387494  0.116751  0.735325   \n",
       "9999  0.139603  0.800599  0.223849  ... -0.027263 -0.214559 -0.383886   \n",
       "\n",
       "           V23       V24       V25       V26       V27       V28  Amount  \n",
       "0    -0.110474  0.066928  0.128539 -0.189115  0.133558 -0.021053  149.62  \n",
       "1     0.101288 -0.339846  0.167170  0.125895 -0.008983  0.014724    2.69  \n",
       "2     0.909412 -0.689281 -0.327642 -0.139097 -0.055353 -0.059752  378.66  \n",
       "3    -0.190321 -1.175575  0.647376 -0.221929  0.062723  0.061458  123.50  \n",
       "4    -0.137458  0.141267 -0.206010  0.502292  0.219422  0.215153   69.99  \n",
       "...        ...       ...       ...       ...       ...       ...     ...  \n",
       "9995 -0.073871  0.157594 -0.491954  0.184607 -0.123496 -0.311603    9.99  \n",
       "9996 -0.262663  0.275009  0.161061 -0.040818 -0.025942 -0.132984    7.17  \n",
       "9997 -0.885188  0.587379  0.694560 -0.070796  0.382392 -0.177974   29.00  \n",
       "9998  0.165807  0.966368 -1.162912 -0.284162  0.141743  0.044704   61.00  \n",
       "9999  0.146840  0.153943  0.133207 -0.466728  0.007047  0.005768   26.99  \n",
       "\n",
       "[10000 rows x 29 columns]"
      ]
     },
     "execution_count": 2,
     "metadata": {},
     "output_type": "execute_result"
    }
   ],
   "source": [
    "df = pd.read_csv(\"Data/credit_card.csv\")\n",
    "df"
   ]
  },
  {
   "cell_type": "markdown",
   "id": "2062416b-def4-424d-9f51-e5ed615577ef",
   "metadata": {},
   "source": [
    "### Part 1 - KMeans"
   ]
  },
  {
   "cell_type": "markdown",
   "id": "1869a585-cf75-4d39-8d30-2531672c8a93",
   "metadata": {},
   "source": [
    "- Determine which points are anomalous based on distances of each point to each cluster. Anomalous points will lie farther outside the norm."
   ]
  },
  {
   "cell_type": "code",
   "execution_count": 3,
   "id": "16bae726-4eb5-4f67-bc2b-7447ae788040",
   "metadata": {},
   "outputs": [],
   "source": [
    "# Scale data\n",
    "scaler = StandardScaler()\n",
    "df_scaled = scaler.fit_transform(df)"
   ]
  },
  {
   "cell_type": "code",
   "execution_count": 4,
   "id": "e63b9e80-2e21-4fbe-b9ed-8095715877d0",
   "metadata": {},
   "outputs": [
    {
     "data": {
      "text/html": [
       "<style>#sk-container-id-1 {color: black;background-color: white;}#sk-container-id-1 pre{padding: 0;}#sk-container-id-1 div.sk-toggleable {background-color: white;}#sk-container-id-1 label.sk-toggleable__label {cursor: pointer;display: block;width: 100%;margin-bottom: 0;padding: 0.3em;box-sizing: border-box;text-align: center;}#sk-container-id-1 label.sk-toggleable__label-arrow:before {content: \"▸\";float: left;margin-right: 0.25em;color: #696969;}#sk-container-id-1 label.sk-toggleable__label-arrow:hover:before {color: black;}#sk-container-id-1 div.sk-estimator:hover label.sk-toggleable__label-arrow:before {color: black;}#sk-container-id-1 div.sk-toggleable__content {max-height: 0;max-width: 0;overflow: hidden;text-align: left;background-color: #f0f8ff;}#sk-container-id-1 div.sk-toggleable__content pre {margin: 0.2em;color: black;border-radius: 0.25em;background-color: #f0f8ff;}#sk-container-id-1 input.sk-toggleable__control:checked~div.sk-toggleable__content {max-height: 200px;max-width: 100%;overflow: auto;}#sk-container-id-1 input.sk-toggleable__control:checked~label.sk-toggleable__label-arrow:before {content: \"▾\";}#sk-container-id-1 div.sk-estimator input.sk-toggleable__control:checked~label.sk-toggleable__label {background-color: #d4ebff;}#sk-container-id-1 div.sk-label input.sk-toggleable__control:checked~label.sk-toggleable__label {background-color: #d4ebff;}#sk-container-id-1 input.sk-hidden--visually {border: 0;clip: rect(1px 1px 1px 1px);clip: rect(1px, 1px, 1px, 1px);height: 1px;margin: -1px;overflow: hidden;padding: 0;position: absolute;width: 1px;}#sk-container-id-1 div.sk-estimator {font-family: monospace;background-color: #f0f8ff;border: 1px dotted black;border-radius: 0.25em;box-sizing: border-box;margin-bottom: 0.5em;}#sk-container-id-1 div.sk-estimator:hover {background-color: #d4ebff;}#sk-container-id-1 div.sk-parallel-item::after {content: \"\";width: 100%;border-bottom: 1px solid gray;flex-grow: 1;}#sk-container-id-1 div.sk-label:hover label.sk-toggleable__label {background-color: #d4ebff;}#sk-container-id-1 div.sk-serial::before {content: \"\";position: absolute;border-left: 1px solid gray;box-sizing: border-box;top: 0;bottom: 0;left: 50%;z-index: 0;}#sk-container-id-1 div.sk-serial {display: flex;flex-direction: column;align-items: center;background-color: white;padding-right: 0.2em;padding-left: 0.2em;position: relative;}#sk-container-id-1 div.sk-item {position: relative;z-index: 1;}#sk-container-id-1 div.sk-parallel {display: flex;align-items: stretch;justify-content: center;background-color: white;position: relative;}#sk-container-id-1 div.sk-item::before, #sk-container-id-1 div.sk-parallel-item::before {content: \"\";position: absolute;border-left: 1px solid gray;box-sizing: border-box;top: 0;bottom: 0;left: 50%;z-index: -1;}#sk-container-id-1 div.sk-parallel-item {display: flex;flex-direction: column;z-index: 1;position: relative;background-color: white;}#sk-container-id-1 div.sk-parallel-item:first-child::after {align-self: flex-end;width: 50%;}#sk-container-id-1 div.sk-parallel-item:last-child::after {align-self: flex-start;width: 50%;}#sk-container-id-1 div.sk-parallel-item:only-child::after {width: 0;}#sk-container-id-1 div.sk-dashed-wrapped {border: 1px dashed gray;margin: 0 0.4em 0.5em 0.4em;box-sizing: border-box;padding-bottom: 0.4em;background-color: white;}#sk-container-id-1 div.sk-label label {font-family: monospace;font-weight: bold;display: inline-block;line-height: 1.2em;}#sk-container-id-1 div.sk-label-container {text-align: center;}#sk-container-id-1 div.sk-container {/* jupyter's `normalize.less` sets `[hidden] { display: none; }` but bootstrap.min.css set `[hidden] { display: none !important; }` so we also need the `!important` here to be able to override the default hidden behavior on the sphinx rendered scikit-learn.org. See: https://github.com/scikit-learn/scikit-learn/issues/21755 */display: inline-block !important;position: relative;}#sk-container-id-1 div.sk-text-repr-fallback {display: none;}</style><div id=\"sk-container-id-1\" class=\"sk-top-container\"><div class=\"sk-text-repr-fallback\"><pre>KMeans(n_clusters=3, n_init=10, random_state=42)</pre><b>In a Jupyter environment, please rerun this cell to show the HTML representation or trust the notebook. <br />On GitHub, the HTML representation is unable to render, please try loading this page with nbviewer.org.</b></div><div class=\"sk-container\" hidden><div class=\"sk-item\"><div class=\"sk-estimator sk-toggleable\"><input class=\"sk-toggleable__control sk-hidden--visually\" id=\"sk-estimator-id-1\" type=\"checkbox\" checked><label for=\"sk-estimator-id-1\" class=\"sk-toggleable__label sk-toggleable__label-arrow\">KMeans</label><div class=\"sk-toggleable__content\"><pre>KMeans(n_clusters=3, n_init=10, random_state=42)</pre></div></div></div></div></div>"
      ],
      "text/plain": [
       "KMeans(n_clusters=3, n_init=10, random_state=42)"
      ]
     },
     "execution_count": 4,
     "metadata": {},
     "output_type": "execute_result"
    }
   ],
   "source": [
    "# Fit KMeans model with 3 clusters. Use random state 42.\n",
    "kmeans = KMeans(n_clusters=3, n_init=10, random_state = 42)\n",
    "kmeans.fit(df_scaled)"
   ]
  },
  {
   "cell_type": "code",
   "execution_count": 5,
   "id": "b9360f2e-b7bc-4480-90c8-7ba2b987d0f3",
   "metadata": {},
   "outputs": [
    {
     "data": {
      "text/plain": [
       "array([[2.80468161, 4.39326354, 5.85721494],\n",
       "       [2.42642963, 3.68608746, 5.07508117],\n",
       "       [6.5426218 , 7.33737825, 8.65600243],\n",
       "       ...,\n",
       "       [7.25374437, 6.4078623 , 8.24946223],\n",
       "       [6.81346291, 6.26852314, 4.97246188],\n",
       "       [4.88282778, 3.67991041, 5.7359755 ]])"
      ]
     },
     "execution_count": 5,
     "metadata": {},
     "output_type": "execute_result"
    }
   ],
   "source": [
    "# Use cdist to create matrix of distances between each point and each cluster\n",
    "distances = cdist(df_scaled, kmeans.cluster_centers_, 'euclidean')\n",
    "distances"
   ]
  },
  {
   "cell_type": "code",
   "execution_count": 6,
   "id": "770286c6-6956-4a66-9c53-6d6f831a2c3b",
   "metadata": {},
   "outputs": [
    {
     "name": "stdout",
     "output_type": "stream",
     "text": [
      "There are 40 identified anomalies.\n"
     ]
    },
    {
     "data": {
      "text/plain": [
       "Int64Index([ 159, 1376, 1619, 2156, 2212, 2439, 2594, 2654, 2756, 2911, 2914,\n",
       "            2917, 2923, 3443, 4779, 5303, 5412, 5413, 5529, 5674, 5704, 5764,\n",
       "            6489, 6643, 6672, 7322, 7338, 7470, 7596, 7597, 8124, 8163, 8437,\n",
       "            8442, 8856, 8939, 8999, 9071, 9304, 9326],\n",
       "           dtype='int64')"
      ]
     },
     "execution_count": 6,
     "metadata": {},
     "output_type": "execute_result"
    }
   ],
   "source": [
    "## Define a list of the indicies of the anomalous data using the stakeholder threshold (99.6%)\n",
    "\n",
    "# Get the minimum distance to any cluster for each point\n",
    "min_distances = np.min(distances, axis=1)\n",
    "# Define the threshold\n",
    "threshold = np.percentile(min_distances, 99.6)\n",
    "\n",
    "# Filter the anomalies\n",
    "filter_anomalies = min_distances > threshold\n",
    "\n",
    "# Getting the row indices of the anomalies\n",
    "km_anomalies = df[filter_anomalies].index\n",
    "print(f'There are {len(km_anomalies)} identified anomalies.')\n",
    "km_anomalies"
   ]
  },
  {
   "cell_type": "code",
   "execution_count": 7,
   "id": "2b22efb5-5472-498e-bb2c-90220da86774",
   "metadata": {},
   "outputs": [
    {
     "data": {
      "image/png": "[encoded data removed]",
      "text/plain": [
       "<Figure size 640x480 with 1 Axes>"
      ]
     },
     "metadata": {},
     "output_type": "display_data"
    }
   ],
   "source": [
    "# Visualize the distribution of distances and the anomaly threshold.\n",
    "ax = sns.histplot(min_distances)\n",
    "ax.axvline(threshold, color='red', ls=':', label='Anomaly Threshold (99.6%)')\n",
    "ax.axvspan(threshold, ax.get_xlim()[1], color='lightcoral',zorder=0, label='Anomalies')\n",
    "ax.legend(bbox_to_anchor=[1,1]);"
   ]
  },
  {
   "cell_type": "markdown",
   "id": "d41a6667-42fb-4e62-8198-6a53b1151170",
   "metadata": {},
   "source": [
    "### Part 2 - Isolation Forest"
   ]
  },
  {
   "cell_type": "markdown",
   "id": "6bc1aa12-f8f5-494e-974d-3d359c6b8209",
   "metadata": {},
   "source": [
    "- Determine which points are anomalous based on number of branches required to reach the terminal node. More anomalous data will be reached with fewer branches ."
   ]
  },
  {
   "cell_type": "code",
   "execution_count": 8,
   "id": "7015c8de-a156-4d76-ab6b-1a3117a66e25",
   "metadata": {},
   "outputs": [
    {
     "data": {
      "text/html": [
       "<style>#sk-container-id-2 {color: black;background-color: white;}#sk-container-id-2 pre{padding: 0;}#sk-container-id-2 div.sk-toggleable {background-color: white;}#sk-container-id-2 label.sk-toggleable__label {cursor: pointer;display: block;width: 100%;margin-bottom: 0;padding: 0.3em;box-sizing: border-box;text-align: center;}#sk-container-id-2 label.sk-toggleable__label-arrow:before {content: \"▸\";float: left;margin-right: 0.25em;color: #696969;}#sk-container-id-2 label.sk-toggleable__label-arrow:hover:before {color: black;}#sk-container-id-2 div.sk-estimator:hover label.sk-toggleable__label-arrow:before {color: black;}#sk-container-id-2 div.sk-toggleable__content {max-height: 0;max-width: 0;overflow: hidden;text-align: left;background-color: #f0f8ff;}#sk-container-id-2 div.sk-toggleable__content pre {margin: 0.2em;color: black;border-radius: 0.25em;background-color: #f0f8ff;}#sk-container-id-2 input.sk-toggleable__control:checked~div.sk-toggleable__content {max-height: 200px;max-width: 100%;overflow: auto;}#sk-container-id-2 input.sk-toggleable__control:checked~label.sk-toggleable__label-arrow:before {content: \"▾\";}#sk-container-id-2 div.sk-estimator input.sk-toggleable__control:checked~label.sk-toggleable__label {background-color: #d4ebff;}#sk-container-id-2 div.sk-label input.sk-toggleable__control:checked~label.sk-toggleable__label {background-color: #d4ebff;}#sk-container-id-2 input.sk-hidden--visually {border: 0;clip: rect(1px 1px 1px 1px);clip: rect(1px, 1px, 1px, 1px);height: 1px;margin: -1px;overflow: hidden;padding: 0;position: absolute;width: 1px;}#sk-container-id-2 div.sk-estimator {font-family: monospace;background-color: #f0f8ff;border: 1px dotted black;border-radius: 0.25em;box-sizing: border-box;margin-bottom: 0.5em;}#sk-container-id-2 div.sk-estimator:hover {background-color: #d4ebff;}#sk-container-id-2 div.sk-parallel-item::after {content: \"\";width: 100%;border-bottom: 1px solid gray;flex-grow: 1;}#sk-container-id-2 div.sk-label:hover label.sk-toggleable__label {background-color: #d4ebff;}#sk-container-id-2 div.sk-serial::before {content: \"\";position: absolute;border-left: 1px solid gray;box-sizing: border-box;top: 0;bottom: 0;left: 50%;z-index: 0;}#sk-container-id-2 div.sk-serial {display: flex;flex-direction: column;align-items: center;background-color: white;padding-right: 0.2em;padding-left: 0.2em;position: relative;}#sk-container-id-2 div.sk-item {position: relative;z-index: 1;}#sk-container-id-2 div.sk-parallel {display: flex;align-items: stretch;justify-content: center;background-color: white;position: relative;}#sk-container-id-2 div.sk-item::before, #sk-container-id-2 div.sk-parallel-item::before {content: \"\";position: absolute;border-left: 1px solid gray;box-sizing: border-box;top: 0;bottom: 0;left: 50%;z-index: -1;}#sk-container-id-2 div.sk-parallel-item {display: flex;flex-direction: column;z-index: 1;position: relative;background-color: white;}#sk-container-id-2 div.sk-parallel-item:first-child::after {align-self: flex-end;width: 50%;}#sk-container-id-2 div.sk-parallel-item:last-child::after {align-self: flex-start;width: 50%;}#sk-container-id-2 div.sk-parallel-item:only-child::after {width: 0;}#sk-container-id-2 div.sk-dashed-wrapped {border: 1px dashed gray;margin: 0 0.4em 0.5em 0.4em;box-sizing: border-box;padding-bottom: 0.4em;background-color: white;}#sk-container-id-2 div.sk-label label {font-family: monospace;font-weight: bold;display: inline-block;line-height: 1.2em;}#sk-container-id-2 div.sk-label-container {text-align: center;}#sk-container-id-2 div.sk-container {/* jupyter's `normalize.less` sets `[hidden] { display: none; }` but bootstrap.min.css set `[hidden] { display: none !important; }` so we also need the `!important` here to be able to override the default hidden behavior on the sphinx rendered scikit-learn.org. See: https://github.com/scikit-learn/scikit-learn/issues/21755 */display: inline-block !important;position: relative;}#sk-container-id-2 div.sk-text-repr-fallback {display: none;}</style><div id=\"sk-container-id-2\" class=\"sk-top-container\"><div class=\"sk-text-repr-fallback\"><pre>IsolationForest(contamination=0.004, random_state=42)</pre><b>In a Jupyter environment, please rerun this cell to show the HTML representation or trust the notebook. <br />On GitHub, the HTML representation is unable to render, please try loading this page with nbviewer.org.</b></div><div class=\"sk-container\" hidden><div class=\"sk-item\"><div class=\"sk-estimator sk-toggleable\"><input class=\"sk-toggleable__control sk-hidden--visually\" id=\"sk-estimator-id-2\" type=\"checkbox\" checked><label for=\"sk-estimator-id-2\" class=\"sk-toggleable__label sk-toggleable__label-arrow\">IsolationForest</label><div class=\"sk-toggleable__content\"><pre>IsolationForest(contamination=0.004, random_state=42)</pre></div></div></div></div></div>"
      ],
      "text/plain": [
       "IsolationForest(contamination=0.004, random_state=42)"
      ]
     },
     "execution_count": 8,
     "metadata": {},
     "output_type": "execute_result"
    }
   ],
   "source": [
    "## Instantiate and fit the model\n",
    "# Instantiate the model with a contaimination of 0.004\n",
    "iso_996 = IsolationForest(contamination=0.004, random_state = 42)\n",
    "# Fit the model using .values to avoid a warning\n",
    "iso_996.fit(df.values)"
   ]
  },
  {
   "cell_type": "code",
   "execution_count": 9,
   "id": "11d663b4-a9a2-43a5-9e90-0b929b09a1a6",
   "metadata": {},
   "outputs": [
    {
     "data": {
      "text/plain": [
       "array([1, 1, 1, 1, 1, 1, 1, 1, 1, 1])"
      ]
     },
     "execution_count": 9,
     "metadata": {},
     "output_type": "execute_result"
    }
   ],
   "source": [
    "# Obtain results from the model\n",
    "predictions = iso_996.predict(df.values)\n",
    "predictions[:10]"
   ]
  },
  {
   "cell_type": "code",
   "execution_count": 10,
   "id": "c275ec07-6eab-4ea9-bb68-396556e0b8cd",
   "metadata": {},
   "outputs": [
    {
     "name": "stdout",
     "output_type": "stream",
     "text": [
      "There are 40 identified anomalies.\n"
     ]
    },
    {
     "data": {
      "text/plain": [
       "Int64Index([ 159, 1619, 2156, 2756, 2858, 2914, 2917, 2923, 5303, 5412, 5413,\n",
       "            5704, 6311, 6489, 6581, 6595, 6634, 6643, 6672, 6757, 6761, 6798,\n",
       "            6829, 7338, 7470, 7596, 7597, 8124, 8163, 8437, 8442, 8627, 8645,\n",
       "            8667, 8670, 8856, 8999, 9071, 9304, 9326],\n",
       "           dtype='int64')"
      ]
     },
     "execution_count": 10,
     "metadata": {},
     "output_type": "execute_result"
    }
   ],
   "source": [
    "## Obtain an index of anomalous data\n",
    "# Make a predictions filter\n",
    "iso_996_filter = (predictions == -1)\n",
    "# Get list of indicies\n",
    "iso_anomalies = df[iso_996_filter].index\n",
    "\n",
    "print(f'There are {len(iso_anomalies)} identified anomalies.')\n",
    "iso_anomalies"
   ]
  },
  {
   "cell_type": "markdown",
   "id": "cdd04256-1a86-470b-8172-31bfc0d9e938",
   "metadata": {},
   "source": [
    "#### Part 3 - Compare anomalies from KMeans and Isolation Forest"
   ]
  },
  {
   "cell_type": "markdown",
   "id": "ef5bb579-bb43-4eaa-ad5a-516df3306149",
   "metadata": {},
   "source": [
    "**How many anomalies did the two approaches agree on?**"
   ]
  },
  {
   "cell_type": "code",
   "execution_count": 11,
   "id": "b755736a-6b71-4ae2-9313-a2de3b0085b5",
   "metadata": {},
   "outputs": [
    {
     "name": "stdout",
     "output_type": "stream",
     "text": [
      "The two approaches, KMeans and Isolation Forest, agreed on 27 anomalies.\n"
     ]
    }
   ],
   "source": [
    "# Make a list of anomalies found with both methods\n",
    "both = [a for a in iso_anomalies if a in km_anomalies]\n",
    "print(f'The two approaches, KMeans and Isolation Forest, agreed on {len(both)} anomalies.')"
   ]
  },
  {
   "cell_type": "markdown",
   "id": "5e4e7521-b3ce-4c4c-8205-2739f69234c3",
   "metadata": {},
   "source": [
    "**What percentage of the anomalies did the two approaches agree on?**"
   ]
  },
  {
   "cell_type": "code",
   "execution_count": 12,
   "id": "d7acd57a-e72a-4ff2-8aaf-ae0205c91faa",
   "metadata": {},
   "outputs": [
    {
     "name": "stdout",
     "output_type": "stream",
     "text": [
      "The different approaches had 67.5% of anomalies in common.\n"
     ]
    }
   ],
   "source": [
    "print(f'The different approaches had {round((27/40)*100, 2)}% of anomalies in common.')"
   ]
  }
 ],
 "metadata": {
  "kernelspec": {
   "display_name": "Python 3 (ipykernel)",
   "language": "python",
   "name": "python3"
  },
  "language_info": {
   "codemirror_mode": {
    "name": "ipython",
    "version": 3
   },
   "file_extension": ".py",
   "mimetype": "text/x-python",
   "name": "python",
   "nbconvert_exporter": "python",
   "pygments_lexer": "ipython3",
   "version": "3.10.10"
  },
  "widgets": {
   "application/vnd.jupyter.widget-state+json": {
    "state": {},
    "version_major": 2,
    "version_minor": 0
   }
  }
 },
 "nbformat": 4,
 "nbformat_minor": 5
}
