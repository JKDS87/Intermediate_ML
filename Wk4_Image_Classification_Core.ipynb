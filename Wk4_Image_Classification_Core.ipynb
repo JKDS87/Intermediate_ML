{
 "cells": [
  {
   "cell_type": "markdown",
   "id": "1e20bfb2-0bff-4363-8c14-774568652c77",
   "metadata": {},
   "source": [
    "# Image Classification Core\n",
    "**Student:** Matthew Malueg"
   ]
  },
  {
   "cell_type": "markdown",
   "id": "a5250a67-ba7f-44f0-9861-3b8b9633f662",
   "metadata": {},
   "source": [
    "### Assignment Task"
   ]
  },
  {
   "cell_type": "markdown",
   "id": "c9a75cb0-8bf4-4af1-9eb5-0e8d1a85af63",
   "metadata": {},
   "source": [
    "Our goal is to classify chest x-rays as 'normal', 'pneumonia', or 'covid' using Convolutional Neural Networks.\n",
    "\n",
    "For this assignment, our goal is to get as high of an accuracy as possible, applying all of the techniques and tools covered this week."
   ]
  }
 ],
 "metadata": {
  "kernelspec": {
   "display_name": "Python 3 (ipykernel)",
   "language": "python",
   "name": "python3"
  },
  "language_info": {
   "codemirror_mode": {
    "name": "ipython",
    "version": 3
   },
   "file_extension": ".py",
   "mimetype": "text/x-python",
   "name": "python",
   "nbconvert_exporter": "python",
   "pygments_lexer": "ipython3",
   "version": "3.10.10"
  },
  "widgets": {
   "application/vnd.jupyter.widget-state+json": {
    "state": {},
    "version_major": 2,
    "version_minor": 0
   }
  }
 },
 "nbformat": 4,
 "nbformat_minor": 5
}
