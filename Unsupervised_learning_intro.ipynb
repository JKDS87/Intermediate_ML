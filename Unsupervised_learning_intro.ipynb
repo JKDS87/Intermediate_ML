{
 "cells": [
  {
   "cell_type": "markdown",
   "id": "6b4db058-9e8e-46c1-81e4-eb7e06fc8a57",
   "metadata": {},
   "source": [
    "## Principal Component Analysis"
   ]
  },
  {
   "cell_type": "markdown",
   "id": "37d514a5-5003-4d4d-b2e5-e4c812e327be",
   "metadata": {},
   "source": [
    "- PCA transforms the features into a new set of variables called Principal Components, which are linear combinations of all the original features.\n",
    "- PCA tries to capture as much variability in the data as it can with as few features as possible."
   ]
  },
  {
   "cell_type": "markdown",
   "id": "49ccf77a-d976-4c6f-a0db-169c8729eb12",
   "metadata": {},
   "source": [
    "### Uses of PCA\n",
    "- Visualization: if there is high-dimensional data that would be impossible to visualize, sometimes by transforming that data to lower-dimensional space, it is possible to visualize things like clusters.\n",
    "- Model Speed: using PCA prior to modeling can reduce the dimensions of the data, allowing the modeling to run faster.\n",
    "- Clustering: by using PC's for clustering models, many features can be used indirectly by replacing the original number of features with fewer features."
   ]
  },
  {
   "cell_type": "markdown",
   "id": "aca3bcd2-2cfe-4e07-b254-dad77c5eb374",
   "metadata": {},
   "source": [
    "### Assumptions of PCA\n",
    "- When doing PCA, the following assumptions are made:\n",
    "    - There are linear relationships between the features\n",
    "    - Importance is determined from variance, i.e., higher variance means it is more important\n",
    "    - All of the original features have the same units (if they do not, the data will need to be scaled)."
   ]
  }
 ],
 "metadata": {
  "kernelspec": {
   "display_name": "Python 3 (ipykernel)",
   "language": "python",
   "name": "python3"
  },
  "language_info": {
   "codemirror_mode": {
    "name": "ipython",
    "version": 3
   },
   "file_extension": ".py",
   "mimetype": "text/x-python",
   "name": "python",
   "nbconvert_exporter": "python",
   "pygments_lexer": "ipython3",
   "version": "3.10.10"
  },
  "widgets": {
   "application/vnd.jupyter.widget-state+json": {
    "state": {},
    "version_major": 2,
    "version_minor": 0
   }
  }
 },
 "nbformat": 4,
 "nbformat_minor": 5
}
