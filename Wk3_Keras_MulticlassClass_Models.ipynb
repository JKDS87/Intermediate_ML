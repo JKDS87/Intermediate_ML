{
 "cells": [
  {
   "cell_type": "markdown",
   "id": "e0e472be-fa05-46c4-9b18-6a390d112780",
   "metadata": {},
   "source": [
    "# Multiclass Classification Models in Keras"
   ]
  },
  {
   "cell_type": "markdown",
   "id": "c9546809-733a-4431-9f34-7c0c897ac9ba",
   "metadata": {},
   "source": [
    "**Objective:** \n",
    "- Preprocess a multiclass target for a Keras deep learning model.\n",
    "- Create a feed-forward model for multiclass classification using appropriate output layers, loss functions, and metrics in Keras.\n",
    "- Evaluate a feed-forward multiclass classification model created in Keras using Sci-Kit Learn metric functions.\n",
    "\n",
    "As you recall, a classification problem is one in which you are trying to predict a discrete, finite, and non-overlapping number of classes. Multiclass classification is when you are trying to predict which of 3 or more classes a sample belongs to. This is handled a little differently in Keras models than binary classification, although most of the same metrics can apply. One example is a model that tries to classify fish into a limited number of known species using measurements of size and weight. Let’s try this in Keras.\n",
    "\n",
    "**In this lesson, we will:**\n",
    "1. Import necessary libraries.\n",
    "2. One-hot encode the target variable.\n",
    "3. Load and process the data.\n",
    "4. Build a feed-forawrd multiclass classification model with an appropriate output layer and loss function.\n",
    "5. Evaluate the model using classification metrics and a confusion matrix."
   ]
  },
  {
   "cell_type": "markdown",
   "id": "3a398796-5c1c-4d7b-adf4-6c8339dcb9a9",
   "metadata": {
    "jp-MarkdownHeadingCollapsed": true
   },
   "source": [
    "## Libraries, functions"
   ]
  },
  {
   "cell_type": "code",
   "execution_count": 1,
   "id": "e8770138-f3e1-4442-a948-cc6204145b5f",
   "metadata": {},
   "outputs": [],
   "source": [
    "import pandas as pd\n",
    "import numpy as np\n",
    "import matplotlib.pyplot as plt\n",
    " \n",
    "#Keras\n",
    "from tensorflow.keras import Sequential\n",
    "from tensorflow.keras import metrics\n",
    "from tensorflow.keras.layers import Dense, Dropout\n",
    " \n",
    "#Sci-kit Learn\n",
    "from sklearn.metrics import classification_report, ConfusionMatrixDisplay\n",
    "from sklearn.preprocessing import StandardScaler\n",
    "from sklearn.model_selection import train_test_split"
   ]
  },
  {
   "cell_type": "code",
   "execution_count": 2,
   "id": "9413aa0f-7198-412e-8723-58a5c085348e",
   "metadata": {},
   "outputs": [],
   "source": [
    "def classification_metrics(y_true, y_pred, label='',\n",
    "                           output_dict=False, figsize=(8,4),\n",
    "                           normalize='true', cmap='Blues',\n",
    "                           colorbar=False):\n",
    "    \n",
    "    # Get the classification report\n",
    "    report = classification_report(y_true, y_pred)\n",
    "    ## Print header and report\n",
    "    header = \"-\"*70\n",
    "    print(header, f\" Classification Metrics: {label}\", header, sep='\\n')\n",
    "    print(report)\n",
    "    \n",
    "    ## CONFUSION MATRICES SUBPLOTS\n",
    "    fig, axes = plt.subplots(ncols=2, figsize=figsize)\n",
    "    \n",
    "    # create a confusion matrix  of raw counts\n",
    "    ConfusionMatrixDisplay.from_predictions(y_true, y_pred,\n",
    "                normalize=None, cmap='gist_gray', values_format=\"d\", colorbar=colorbar,\n",
    "                ax = axes[0],);\n",
    "    axes[0].set_title(\"Raw Counts\")\n",
    "    \n",
    "    # create a confusion matrix with the test data\n",
    "    ConfusionMatrixDisplay.from_predictions(y_true, y_pred,\n",
    "                normalize=normalize, cmap=cmap, values_format=\".2f\", colorbar=colorbar,\n",
    "                ax = axes[1]);\n",
    "    axes[1].set_title(\"Normalized Confusion Matrix\")\n",
    "    \n",
    "    # Adjust layout and show figure\n",
    "    fig.tight_layout()\n",
    "    plt.show()\n",
    "    \n",
    "    # Return dictionary of classification_report\n",
    "    if output_dict==True:\n",
    "        report_dict = classification_report(y_true, y_pred, output_dict=True)\n",
    "        return report_dict"
   ]
  },
  {
   "cell_type": "code",
   "execution_count": 3,
   "id": "e7a00b74-14b7-46dc-a538-93e583368297",
   "metadata": {},
   "outputs": [],
   "source": [
    "# Custom function for plotting each metric\n",
    "def plot_history(history, figsize=(6,12), marker='o'):\n",
    "       \n",
    "    # Get list of metrics from history\n",
    "    metrics = [c for c in history.history if not c.startswith('val_')]\n",
    "    \n",
    "    ## Separate row for each metric\n",
    "    fig, axes = plt.subplots(nrows=len(metrics),figsize=figsize)\n",
    "    \n",
    "    # For each metric\n",
    "    for i, metric_name in enumerate(metrics):\n",
    "    \n",
    "        # Get the axis for the current metric\n",
    "        ax = axes[i]\n",
    "    \n",
    "        # Get metric from history.history\n",
    "        metric_values = history.history[metric_name]\n",
    "        # Get epochs from history\n",
    "        epochs = history.epoch\n",
    "    \n",
    "        # Plot the training metric\n",
    "        ax.plot(epochs, metric_values, label=metric_name, marker=marker)\n",
    "    \n",
    "        ## Check if val_{metric} exists. if so, plot:\n",
    "        val_metric_name = f\"val_{metric_name}\"\n",
    "        if val_metric_name in history.history:\n",
    "            # Get validation values and plot\n",
    "            metric_values = history.history[val_metric_name]\n",
    "            ax.plot(epochs,metric_values,label=val_metric_name, marker=marker)\n",
    "    \n",
    "        # Final subplot adjustments \n",
    "        ax.legend()\n",
    "        ax.set_title(metric_name)\n",
    "    fig.tight_layout()\n",
    "\n",
    "    return fig, axes"
   ]
  },
  {
   "cell_type": "markdown",
   "id": "f8f71b74-8500-4f7a-acda-776079bf3fcc",
   "metadata": {
    "jp-MarkdownHeadingCollapsed": true
   },
   "source": [
    "## Load and preprocess data"
   ]
  },
  {
   "cell_type": "markdown",
   "id": "11c26597-6ec4-4baa-9c3c-bbc978188737",
   "metadata": {},
   "source": [
    "The data we will be using is collected from a fish market and represents data about nine different common fish species. It was originally downloaded from Kaggle​​.\r\n",
    "\r\n",
    "This dataset only has 159 rows, and that would usually be too small for deep learning to be effective. However, it will work for demonstration purposes."
   ]
  },
  {
   "cell_type": "code",
   "execution_count": 4,
   "id": "e9833de3-76bd-4ee5-b3d0-030abec077a9",
   "metadata": {},
   "outputs": [
    {
     "data": {
      "text/html": [
       "<div>\n",
       "<style scoped>\n",
       "    .dataframe tbody tr th:only-of-type {\n",
       "        vertical-align: middle;\n",
       "    }\n",
       "\n",
       "    .dataframe tbody tr th {\n",
       "        vertical-align: top;\n",
       "    }\n",
       "\n",
       "    .dataframe thead th {\n",
       "        text-align: right;\n",
       "    }\n",
       "</style>\n",
       "<table border=\"1\" class=\"dataframe\">\n",
       "  <thead>\n",
       "    <tr style=\"text-align: right;\">\n",
       "      <th></th>\n",
       "      <th>Species</th>\n",
       "      <th>Weight</th>\n",
       "      <th>Length1</th>\n",
       "      <th>Length2</th>\n",
       "      <th>Length3</th>\n",
       "      <th>Height</th>\n",
       "      <th>Width</th>\n",
       "    </tr>\n",
       "  </thead>\n",
       "  <tbody>\n",
       "    <tr>\n",
       "      <th>0</th>\n",
       "      <td>Bream</td>\n",
       "      <td>242.0</td>\n",
       "      <td>23.2</td>\n",
       "      <td>25.4</td>\n",
       "      <td>30.0</td>\n",
       "      <td>11.5200</td>\n",
       "      <td>4.0200</td>\n",
       "    </tr>\n",
       "    <tr>\n",
       "      <th>1</th>\n",
       "      <td>Bream</td>\n",
       "      <td>290.0</td>\n",
       "      <td>24.0</td>\n",
       "      <td>26.3</td>\n",
       "      <td>31.2</td>\n",
       "      <td>12.4800</td>\n",
       "      <td>4.3056</td>\n",
       "    </tr>\n",
       "    <tr>\n",
       "      <th>2</th>\n",
       "      <td>Bream</td>\n",
       "      <td>340.0</td>\n",
       "      <td>23.9</td>\n",
       "      <td>26.5</td>\n",
       "      <td>31.1</td>\n",
       "      <td>12.3778</td>\n",
       "      <td>4.6961</td>\n",
       "    </tr>\n",
       "    <tr>\n",
       "      <th>3</th>\n",
       "      <td>Bream</td>\n",
       "      <td>363.0</td>\n",
       "      <td>26.3</td>\n",
       "      <td>29.0</td>\n",
       "      <td>33.5</td>\n",
       "      <td>12.7300</td>\n",
       "      <td>4.4555</td>\n",
       "    </tr>\n",
       "    <tr>\n",
       "      <th>4</th>\n",
       "      <td>Bream</td>\n",
       "      <td>430.0</td>\n",
       "      <td>26.5</td>\n",
       "      <td>29.0</td>\n",
       "      <td>34.0</td>\n",
       "      <td>12.4440</td>\n",
       "      <td>5.1340</td>\n",
       "    </tr>\n",
       "  </tbody>\n",
       "</table>\n",
       "</div>"
      ],
      "text/plain": [
       "  Species  Weight  Length1  Length2  Length3   Height   Width\n",
       "0   Bream   242.0     23.2     25.4     30.0  11.5200  4.0200\n",
       "1   Bream   290.0     24.0     26.3     31.2  12.4800  4.3056\n",
       "2   Bream   340.0     23.9     26.5     31.1  12.3778  4.6961\n",
       "3   Bream   363.0     26.3     29.0     33.5  12.7300  4.4555\n",
       "4   Bream   430.0     26.5     29.0     34.0  12.4440  5.1340"
      ]
     },
     "execution_count": 4,
     "metadata": {},
     "output_type": "execute_result"
    }
   ],
   "source": [
    "# Load Data\n",
    "multi_url = 'https://docs.google.com/spreadsheets/d/e/2PACX-1vR_I2xiiboTvyDr5-Cvvo_m7tnoT2tVnzOWUYf2xBZEhTWiWtZOyerF3c2aQeym10S8T2yHnTPnlPi2/pub?output=csv'\n",
    "df_multi = pd.read_csv(multi_url)\n",
    "df_multi.head()"
   ]
  },
  {
   "cell_type": "code",
   "execution_count": 5,
   "id": "2e4dac27-03a7-4674-a791-1cc5afefef26",
   "metadata": {},
   "outputs": [
    {
     "name": "stdout",
     "output_type": "stream",
     "text": [
      "<class 'pandas.core.frame.DataFrame'>\n",
      "RangeIndex: 159 entries, 0 to 158\n",
      "Data columns (total 7 columns):\n",
      " #   Column   Non-Null Count  Dtype  \n",
      "---  ------   --------------  -----  \n",
      " 0   Species  155 non-null    object \n",
      " 1   Weight   159 non-null    float64\n",
      " 2   Length1  157 non-null    float64\n",
      " 3   Length2  157 non-null    float64\n",
      " 4   Length3  150 non-null    float64\n",
      " 5   Height   156 non-null    float64\n",
      " 6   Width    157 non-null    float64\n",
      "dtypes: float64(6), object(1)\n",
      "memory usage: 8.8+ KB\n",
      "None\n",
      "0 duplicate rows\n"
     ]
    }
   ],
   "source": [
    "# Check for duplicates and missing data\n",
    "print(df_multi.info())\n",
    "print(f'{df_multi.duplicated().sum()} duplicate rows')"
   ]
  },
  {
   "cell_type": "markdown",
   "id": "75b22b9a-efdd-4208-88d4-0458bb0dc71c",
   "metadata": {},
   "source": [
    "Other than the target, all of the columns are numeric, and there are no duplicates. However, we have some rows with missing values. Let’s see how many rows are missing at least one value."
   ]
  },
  {
   "cell_type": "code",
   "execution_count": 6,
   "id": "bea40148-1989-4b05-b8d1-c7018945c547",
   "metadata": {},
   "outputs": [
    {
     "name": "stdout",
     "output_type": "stream",
     "text": [
      "20 rows are missing data\n",
      "12.6% of rows are missing data\n"
     ]
    }
   ],
   "source": [
    "# count rows with missing values\n",
    "na_rows = df_multi.isna().any(axis=1).sum()\n",
    "print(f'{na_rows} rows are missing data')\n",
    "print(f'{na_rows/len(df_multi)*100:.1f}% of rows are missing data')"
   ]
  },
  {
   "cell_type": "markdown",
   "id": "2c2e0bb0-7a22-47db-91cd-cdd9daa33bec",
   "metadata": {},
   "source": [
    "**NOTE:**\n",
    "This is more than 10%, and normally, we would try to impute these. Alternatively, we can choose to drop them.  We will try dropping them, but if we continue with this project, we might try both versions of the data, with dropped nulls and imputed nulls, to see which trains a better model."
   ]
  },
  {
   "cell_type": "code",
   "execution_count": 7,
   "id": "1c8f1559-2c1b-4375-aa0d-8e608849f3ac",
   "metadata": {},
   "outputs": [
    {
     "name": "stdout",
     "output_type": "stream",
     "text": [
      "<class 'pandas.core.frame.DataFrame'>\n",
      "Int64Index: 139 entries, 0 to 157\n",
      "Data columns (total 7 columns):\n",
      " #   Column   Non-Null Count  Dtype  \n",
      "---  ------   --------------  -----  \n",
      " 0   Species  139 non-null    object \n",
      " 1   Weight   139 non-null    float64\n",
      " 2   Length1  139 non-null    float64\n",
      " 3   Length2  139 non-null    float64\n",
      " 4   Length3  139 non-null    float64\n",
      " 5   Height   139 non-null    float64\n",
      " 6   Width    139 non-null    float64\n",
      "dtypes: float64(6), object(1)\n",
      "memory usage: 8.7+ KB\n",
      "None\n"
     ]
    }
   ],
   "source": [
    "# drop missing data\n",
    "df_multi.dropna(inplace=True)\n",
    "print(df_multi.info())"
   ]
  },
  {
   "cell_type": "markdown",
   "id": "f5d2cb2a-d34a-4d69-916a-fc8b74a2edac",
   "metadata": {},
   "source": [
    "Since we are performing classification, we should always check our class balance to help us make decisions about data preparation and to help us properly interpret our accuracy scores."
   ]
  },
  {
   "cell_type": "code",
   "execution_count": 8,
   "id": "cfec8e12-443e-4521-a3e7-9f99f155ddda",
   "metadata": {},
   "outputs": [
    {
     "data": {
      "text/plain": [
       "Perch        48\n",
       "Bream        30\n",
       "Roach        16\n",
       "Pike         13\n",
       "Smelt        13\n",
       "Parkki       11\n",
       "Whitefish     6\n",
       "Beam          2\n",
       "Name: Species, dtype: int64"
      ]
     },
     "execution_count": 8,
     "metadata": {},
     "output_type": "execute_result"
    }
   ],
   "source": [
    "# check class balance\n",
    "df_multi['Species'].value_counts()"
   ]
  },
  {
   "cell_type": "markdown",
   "id": "dce0773d-3954-4bf2-a2b7-70422eefec4b",
   "metadata": {},
   "source": [
    "Our training set is very imbalanced. We could apply some balancing techniques, but with so few training instances, it would be pointless to oversample or undersample the data. We could try SMOTE, but we might expect limited success. In this case, we will leave it and see how our model performs. We can also expect our accuracy score to be unreliable in measuring our model’s performance.​\n",
    "\n",
    "There are also only 2 ‘Beam’ fish in the dataset. A Google search shows that there is no fish named a ‘Beam’. We will combine this with ‘Bream’"
   ]
  },
  {
   "cell_type": "code",
   "execution_count": 9,
   "id": "a2933d52-45a3-486d-b00a-dfae70995189",
   "metadata": {},
   "outputs": [],
   "source": [
    "df_multi['Species'].replace('Beam', 'Bream', inplace=True)"
   ]
  },
  {
   "cell_type": "markdown",
   "id": "9a34ef16-ff99-450b-b323-ca5818d7e1b4",
   "metadata": {},
   "source": [
    "Next, we will split the data into X features and y target and training and validation sets."
   ]
  },
  {
   "cell_type": "code",
   "execution_count": 10,
   "id": "79dcd440-d701-4548-a938-05a85a132af2",
   "metadata": {},
   "outputs": [],
   "source": [
    "# split data\n",
    "X = df_multi.drop(columns='Species')\n",
    "y = df_multi['Species']\n",
    "X_train, X_test, y_train, y_test = train_test_split(X, y,\n",
    "                                                    random_state=42,\n",
    "                                                    stratify=y)"
   ]
  },
  {
   "cell_type": "markdown",
   "id": "bac9b122-37d4-46c3-926e-0f8cb37438be",
   "metadata": {},
   "source": [
    "Data features for deep learning should always be scaled to avoid exploding weights. Exploding weights cause some weights to grow very large and be given too much emphasis by the model. This can lead to overfitting problems."
   ]
  },
  {
   "cell_type": "code",
   "execution_count": 11,
   "id": "6471369b-274b-4658-90c0-3b2f21666212",
   "metadata": {},
   "outputs": [],
   "source": [
    "# scale data\n",
    "scaler = StandardScaler()\n",
    " \n",
    "X_train_tf = scaler.fit_transform(X_train)\n",
    "X_test_tf = scaler.transform(X_test)"
   ]
  },
  {
   "cell_type": "markdown",
   "id": "ec2a76f3-a656-44f4-a3ad-b3a48d84c311",
   "metadata": {
    "jp-MarkdownHeadingCollapsed": true
   },
   "source": [
    "## Encode the target"
   ]
  },
  {
   "cell_type": "markdown",
   "id": "47a5a630-3bfd-4f98-9128-bf910b94eafc",
   "metadata": {},
   "source": [
    "One important difference between binary and multiclass classifications is how we encode the target. In binary classification, we need to ensure that the two classes are encoded as 0 and 1.\r\n",
    "\r\n",
    "In multiclass classification, we both numerically encode and one-hot encode, or binarize, the target.\r\n",
    "\r\n",
    "We will end up with 3 versions of the labels: original, numerically encoded, and binarized."
   ]
  },
  {
   "cell_type": "code",
   "execution_count": 12,
   "id": "7498652d-9936-4c30-b6e1-420f5dad22e7",
   "metadata": {},
   "outputs": [
    {
     "name": "stdout",
     "output_type": "stream",
     "text": [
      "Original Target\n",
      "36     Roach\n",
      "27     Bream\n",
      "126    Perch\n",
      "73     Perch\n",
      "34     Bream\n",
      "Name: Species, dtype: object\n",
      "\n",
      "Encoded Target\n",
      "[4 0 2 2 0]\n",
      "\n",
      "Binarized Target\n",
      "[[0 0 0 0 1 0 0]\n",
      " [1 0 0 0 0 0 0]\n",
      " [0 0 1 0 0 0 0]\n",
      " [0 0 1 0 0 0 0]\n",
      " [1 0 0 0 0 0 0]]\n"
     ]
    }
   ],
   "source": [
    "from sklearn.preprocessing import LabelEncoder, LabelBinarizer\n",
    "# encode labels\n",
    "encoder = LabelEncoder()\n",
    " \n",
    "encoder.fit(y_train)\n",
    "y_train_enc = encoder.transform(y_train)\n",
    "y_test_enc = encoder.transform(y_test)\n",
    " \n",
    "# make a record of the classes, in order of the encoding, in case we want to \n",
    "# translate predictions into fish names later.\n",
    "classes = encoder.classes_\n",
    " \n",
    "# binarize labels\n",
    "binarizer = LabelBinarizer()\n",
    " \n",
    "binarizer.fit(y_train_enc)\n",
    "y_train_bin = binarizer.transform(y_train_enc)\n",
    "y_test_bin = binarizer.transform(y_test_enc)\n",
    " \n",
    "# check results\n",
    "print('Original Target')\n",
    "print(y_train.head())\n",
    " \n",
    "print('\\nEncoded Target')\n",
    "print(y_train_enc[:5])\n",
    " \n",
    "print('\\nBinarized Target')\n",
    "print(y_train_bin[:5])"
   ]
  },
  {
   "cell_type": "markdown",
   "id": "7e7806aa-0401-49f5-8b98-f195e7807797",
   "metadata": {
    "jp-MarkdownHeadingCollapsed": true
   },
   "source": [
    "## Create the Keras Model"
   ]
  },
  {
   "cell_type": "markdown",
   "id": "1bccae30-2a81-4283-ae7f-8cf87f91ec23",
   "metadata": {},
   "source": [
    "We are ready to create our model architecture. We will set the input dimensions to the number of features in the incoming training data so Keras can create the correct implied input layer."
   ]
  },
  {
   "cell_type": "code",
   "execution_count": 13,
   "id": "a1c24429-4654-4219-88f8-9d0388612f2a",
   "metadata": {},
   "outputs": [
    {
     "data": {
      "text/plain": [
       "6"
      ]
     },
     "execution_count": 13,
     "metadata": {},
     "output_type": "execute_result"
    }
   ],
   "source": [
    "# Define input shape\n",
    "input_shape = X_train_tf.shape[1]\n",
    "input_shape"
   ]
  },
  {
   "cell_type": "markdown",
   "id": "0250334a-b744-440d-8184-f0df819cfcb7",
   "metadata": {},
   "source": [
    "Some previous experiments have shown us that we need a model with some complexity, two hidden layers with 50 nodes each, but that complexity also can lead to overfitting problems. We will use dropout layers to regularize our model to combat overfitting."
   ]
  },
  {
   "cell_type": "markdown",
   "id": "8a43cbd3-cd95-446f-914b-f3b49ec5e809",
   "metadata": {},
   "source": [
    "**Output Layer**"
   ]
  },
  {
   "cell_type": "code",
   "execution_count": 14,
   "id": "5a25a7c1-a07f-46a4-9352-ca572d865af8",
   "metadata": {},
   "outputs": [
    {
     "data": {
      "text/plain": [
       "7"
      ]
     },
     "execution_count": 14,
     "metadata": {},
     "output_type": "execute_result"
    }
   ],
   "source": [
    "# Define number of classes\n",
    "num_classes = len(classes)\n",
    "num_classes"
   ]
  },
  {
   "cell_type": "markdown",
   "id": "ead5ee87-f91d-4eda-adb8-72ce285f46ba",
   "metadata": {},
   "source": [
    "The number of nodes in the output layer must match the number of classes in the target. In this case, we are classifying fish into 7 different species, so the output layer needs 7 nodes. Recall that we binarized our target to 7 columns so the output predictions of the model will match the shape of the true labels. We’ve coded this algorithmically by using the length of the number of classes from the encoder object. This avoids errors in case we change the number of classes earlier in the process for some reason.\n",
    "\n",
    "Finally, notice the activation function of the output layer. **For multi-class classification, we use the ‘softmax’ activation.** This outputs a matrix of probabilities with each value in a row equal to the probability that the sample belongs to each of the classes. The output will have 7 columns with 7 probabilities corresponding to the 7 different species of fish. Later, during evaluation and prediction, we will extract the index of the column with the highest probability and take that as the prediction."
   ]
  },
  {
   "cell_type": "markdown",
   "id": "3bfaf43b-0c99-47a4-8d06-d555322cc7f3",
   "metadata": {},
   "source": [
    "**Loss**\n",
    "\n",
    "The loss for a Keras model performing multiclass classification will be ‘categorical_crossentropy’ when the target is binarized. There are some ways to avoid binarizing the true labels, but they run into some other limitations. You would also use a different loss function if the true labels were not binarized. If you want to know more about loss functions, what they do, and when each should be used, you can research the documentation at: https://keras.io/api/losses/"
   ]
  },
  {
   "cell_type": "markdown",
   "id": "bdbe06bc-e93b-45f6-a99f-d951823a007d",
   "metadata": {},
   "source": [
    "**Optimizer**\n",
    "\n",
    "An optimizer can speed up learning, and Adam is a popular optimizer. We will start with that here. You can try other optimizers that work with any problem. You can research other options here: https://keras.io/api/optimizers/"
   ]
  },
  {
   "cell_type": "markdown",
   "id": "2b3b0e47-e9c8-48f7-bcee-f7f0a8a8512e",
   "metadata": {},
   "source": [
    "**Metrics**\n",
    "\n",
    "The .compile() method lets us pass additional metrics to be tracked for each learning epoch. If we want to see how they change as the model learns, we can list them here.\r\n",
    "\r\n",
    "This method recognizes some metrics as string shortcuts, such as ‘accuracy,’ but others must be passed as class instances, such as metrics.Recall(). These class instances work differently than Sci-kit Learn's functions for evaluation purposes. They fit on the specific data for the model and should not be reused. Instantiate a new instance of each metrics class for each model iteration.\r\n",
    "\r\n",
    "There is no native class for the f1-score metric. However, it’s possible to create custom metric classes. The code for some implementations of the F1-score metric class is available online. They are a little complicated, but you could copy and paste them with attribution if you wanted to.\r\n",
    "\r\n",
    "You can learn more about available metrics here: https://keras.io/api/metrics/​\r\n",
    "\r\n",
    "We will wrap our model in a function."
   ]
  },
  {
   "cell_type": "code",
   "execution_count": 15,
   "id": "8c78c519-f178-4119-ba27-39ce4f359a4c",
   "metadata": {},
   "outputs": [],
   "source": [
    "# Build multiclass classification model within function\n",
    "def build_model():\n",
    "    # Instantiate Model \n",
    "    model = Sequential()\n",
    "    \n",
    "    # First hidden layer\n",
    "    model.add(Dense(50, # How many neurons you have in your first hidden layer\n",
    "                input_dim =input_shape, # What is the shape of your input features (number of columns)\n",
    "                activation = 'relu')) # What activation function are you using?\n",
    "    model.add(Dense(50, \n",
    "                activation = 'relu'))\n",
    "    model.add(Dropout(.2))\n",
    "    #Output layer\n",
    "    model.add(Dense(num_classes, activation = 'softmax'))\n",
    "   \n",
    "    \n",
    "    # Compile Model\n",
    "    model.compile(loss = 'categorical_crossentropy', optimizer = 'adam',\n",
    "             metrics=['accuracy', metrics.Precision(), metrics.Recall()])\n",
    "    return model"
   ]
  },
  {
   "cell_type": "code",
   "execution_count": 16,
   "id": "21eb7baf-f60b-4a24-b9af-0a5e9609066c",
   "metadata": {},
   "outputs": [
    {
     "name": "stdout",
     "output_type": "stream",
     "text": [
      "Model: \"sequential\"\n",
      "_________________________________________________________________\n",
      " Layer (type)                Output Shape              Param #   \n",
      "=================================================================\n",
      " dense (Dense)               (None, 50)                350       \n",
      "                                                                 \n",
      " dense_1 (Dense)             (None, 50)                2550      \n",
      "                                                                 \n",
      " dropout (Dropout)           (None, 50)                0         \n",
      "                                                                 \n",
      " dense_2 (Dense)             (None, 7)                 357       \n",
      "                                                                 \n",
      "=================================================================\n",
      "Total params: 3,257\n",
      "Trainable params: 3,257\n",
      "Non-trainable params: 0\n",
      "_________________________________________________________________\n"
     ]
    }
   ],
   "source": [
    "# Call our build function to build model\n",
    "multi_model = build_model()\n",
    "\n",
    "# Get model summary\n",
    "multi_model.summary()"
   ]
  },
  {
   "cell_type": "markdown",
   "id": "f72ffce1-e58f-4314-8be4-7668b70189f1",
   "metadata": {},
   "source": [
    "Next, we will fit the model on the data and use the validation data to identify any overfitting. The model will evaluate itself using all metrics passed in the .compile() call for every epoch on both sets of data, though it will only actually train on the training data. We will also set verbose=0 to avoid the long output of learning metrics by epoch. If you want to see the training metrics in real-time, you can change this argument."
   ]
  },
  {
   "cell_type": "code",
   "execution_count": 17,
   "id": "1102e696-47d5-43b7-87d6-f2183e6fccbf",
   "metadata": {},
   "outputs": [],
   "source": [
    "# Fit model\n",
    "history = multi_model.fit(X_train_tf, y_train_bin,\n",
    "                          validation_split = .2,\n",
    "                          epochs=100,\n",
    "                          verbose=0)"
   ]
  },
  {
   "cell_type": "markdown",
   "id": "0834e575-47fd-45c9-92be-3804d1f9cc45",
   "metadata": {},
   "source": [
    "Let’s use our custom function to see the history of learning using each of the metrics we passed to the compile method."
   ]
  },
  {
   "cell_type": "code",
   "execution_count": 18,
   "id": "6ad9ced5-2a77-48b0-ba36-602eb97bc06c",
   "metadata": {},
   "outputs": [
    {
     "data": {
      "image/png": "[encoded data removed]",
      "text/plain": [
       "<Figure size 600x1200 with 4 Axes>"
      ]
     },
     "metadata": {},
     "output_type": "display_data"
    }
   ],
   "source": [
    "# Plot learning history\n",
    "plot_history(history);"
   ]
  },
  {
   "cell_type": "markdown",
   "id": "f1a1d41f-1eed-4686-94e5-adeae9a7b5bd",
   "metadata": {},
   "source": [
    "The learning converges on fairly good scores according to our accuracy, precision, and recall metrics. There is no severe underfitting. We also see that the final training scores and testing scores are pretty close. The model is not overfitting overly much.\n",
    "\n",
    "The metrics along the training history are somewhat bumpy. This is likely caused by the dropout layer, small dataset, and class imbalance."
   ]
  },
  {
   "cell_type": "markdown",
   "id": "91a6efe6-1a5e-4293-bf51-07273a725b69",
   "metadata": {},
   "source": [
    "## Evaluate the Multiclass Classification Model"
   ]
  },
  {
   "cell_type": "markdown",
   "id": "b6e09acd-7b29-4b2a-9f38-cf64876130a0",
   "metadata": {},
   "source": [
    "There are differences in how we process the model predictions to use Sci-Kit Learn evaluation functions. Sci-Kit Learn expects a one-dimensional array of predictions and labels, but our predictions and binarized labels are two-dimensional. Each column represents a different fish species, and the values in each column represent the model’s estimation of the probability that the fish belongs to that species.\n",
    "\n",
    "Notice that these are represented in scientific notation, for example:\n",
    "\n",
    "9.2e-03 = 0.0092\n",
    "\n",
    "9.8e-01 = 0.98"
   ]
  },
  {
   "cell_type": "code",
   "execution_count": 19,
   "id": "4f70152f-9c90-4e4c-906f-85fb2bab8218",
   "metadata": {},
   "outputs": [
    {
     "name": "stdout",
     "output_type": "stream",
     "text": [
      "2/2 [==============================] - 0s 2ms/step\n",
      "Raw Predictions\n",
      " [[2.3807548e-03 3.2593267e-05 9.6624571e-01 4.4492614e-03 5.4690794e-05\n",
      "  8.4326921e-06 2.6828552e-02]\n",
      " [1.7956376e-02 4.8797969e-02 5.0128335e-01 1.6373796e-02 3.2792413e-01\n",
      "  3.1174302e-02 5.6490071e-02]\n",
      " [1.9547704e-03 5.9374049e-02 4.5363864e-01 2.7157462e-03 2.4400549e-01\n",
      "  2.2479296e-01 1.3518424e-02]\n",
      " [1.6883377e-02 2.5170317e-04 9.0725034e-01 1.2742345e-02 2.4727371e-04\n",
      "  5.8945272e-05 6.2566012e-02]\n",
      " [9.9071795e-01 4.1579399e-03 1.9209029e-03 2.6289755e-04 1.4689946e-04\n",
      "  5.7127392e-05 2.7362150e-03]]\n",
      "\n",
      "binarized y_test\n",
      " [[0 0 1 0 0 0 0]\n",
      " [0 0 1 0 0 0 0]\n",
      " [0 0 1 0 0 0 0]\n",
      " [0 0 0 0 0 0 1]\n",
      " [1 0 0 0 0 0 0]]\n"
     ]
    }
   ],
   "source": [
    "# get raw predictions\n",
    "raw_pred = multi_model.predict(X_test_tf)\n",
    " \n",
    "# display predictions and binarized true labels\n",
    "print('Raw Predictions\\n', raw_pred[:5])\n",
    "print('\\nbinarized y_test\\n', y_test_bin[:5])"
   ]
  },
  {
   "cell_type": "markdown",
   "id": "e50663da-3c2b-4d1b-820a-95665bef7d50",
   "metadata": {},
   "source": [
    "To use these predictions in a Sci-kit Learn function, we need to convert them to the integer label for each fish. We can do that with np.argmax(data, axis=1). This will return the column index for the highest value in each row. That column index corresponds to the fish species."
   ]
  },
  {
   "cell_type": "code",
   "execution_count": 20,
   "id": "72fb5719-d41a-4ae0-9bad-0a9cfaea3765",
   "metadata": {},
   "outputs": [
    {
     "name": "stdout",
     "output_type": "stream",
     "text": [
      "integer predictions [2 2 2 2 0 2 5 3 2 0 2 0 3 2 0 2 2 2 2 0 1 3 0 5 2 2 5 0 0 1 2 0 2 2 2]\n",
      "integer true labels [2 2 2 6 0 2 5 3 2 0 2 0 3 2 0 4 2 2 4 0 1 3 1 4 4 2 5 0 0 1 6 0 5 2 2]\n"
     ]
    }
   ],
   "source": [
    "# convert predictions and labels into integers representing each fish class.\n",
    "y_pred = np.argmax(raw_pred, axis=1)\n",
    "y_true = np.argmax(y_test_bin, axis=1)\n",
    " \n",
    "print('integer predictions', y_pred)\n",
    "print('integer true labels', y_true)"
   ]
  },
  {
   "cell_type": "markdown",
   "id": "3afef186-1efc-4bc0-ab26-d654508ffab3",
   "metadata": {},
   "source": [
    "Now we are ready to use Sci-kit learn tools to evaluate our model. Let’s use a classification report and a confusion matrix."
   ]
  },
  {
   "cell_type": "code",
   "execution_count": 21,
   "id": "4e3a5220-5834-450b-a00a-8d8523d68740",
   "metadata": {},
   "outputs": [
    {
     "name": "stderr",
     "output_type": "stream",
     "text": [
      "C:\\Users\\Malue\\anaconda3\\envs\\dojo-env\\lib\\site-packages\\sklearn\\metrics\\_classification.py:1344: UndefinedMetricWarning: Precision and F-score are ill-defined and being set to 0.0 in labels with no predicted samples. Use `zero_division` parameter to control this behavior.\n",
      "  _warn_prf(average, modifier, msg_start, len(result))\n",
      "C:\\Users\\Malue\\anaconda3\\envs\\dojo-env\\lib\\site-packages\\sklearn\\metrics\\_classification.py:1344: UndefinedMetricWarning: Precision and F-score are ill-defined and being set to 0.0 in labels with no predicted samples. Use `zero_division` parameter to control this behavior.\n",
      "  _warn_prf(average, modifier, msg_start, len(result))\n",
      "C:\\Users\\Malue\\anaconda3\\envs\\dojo-env\\lib\\site-packages\\sklearn\\metrics\\_classification.py:1344: UndefinedMetricWarning: Precision and F-score are ill-defined and being set to 0.0 in labels with no predicted samples. Use `zero_division` parameter to control this behavior.\n",
      "  _warn_prf(average, modifier, msg_start, len(result))\n"
     ]
    },
    {
     "name": "stdout",
     "output_type": "stream",
     "text": [
      "----------------------------------------------------------------------\n",
      " Classification Metrics: Test Data\n",
      "----------------------------------------------------------------------\n",
      "              precision    recall  f1-score   support\n",
      "\n",
      "           0       0.89      1.00      0.94         8\n",
      "           1       1.00      0.67      0.80         3\n",
      "           2       0.67      1.00      0.80        12\n",
      "           3       1.00      1.00      1.00         3\n",
      "           4       0.00      0.00      0.00         4\n",
      "           5       0.67      0.67      0.67         3\n",
      "           6       0.00      0.00      0.00         2\n",
      "\n",
      "    accuracy                           0.77        35\n",
      "   macro avg       0.60      0.62      0.60        35\n",
      "weighted avg       0.66      0.77      0.70        35\n",
      "\n"
     ]
    },
    {
     "data": {
      "image/png": "[encoded data removed]",
      "text/plain": [
       "<Figure size 1000x800 with 2 Axes>"
      ]
     },
     "metadata": {},
     "output_type": "display_data"
    }
   ],
   "source": [
    "# Getting Sklearn Metrics\n",
    "classification_metrics(y_true, y_pred, label='Test Data', figsize=(10,8))"
   ]
  },
  {
   "cell_type": "markdown",
   "id": "58c3b984-ce40-4468-b8c2-fe2794d04702",
   "metadata": {},
   "source": [
    "**Model Evaluation**\n",
    "\n",
    "Our model correctly classified 77% of the fish. However, it was unable to classify Whitefish or Roach. This is likely because very few of those fish are in the dataset. Again, we run into the problem of a too-small dataset."
   ]
  },
  {
   "cell_type": "markdown",
   "id": "d2db1eca-4777-4526-b180-0d7feb71cdd0",
   "metadata": {},
   "source": [
    "## Summary"
   ]
  },
  {
   "cell_type": "markdown",
   "id": "5b0d63ae-3d16-43fb-b01a-367f84d35732",
   "metadata": {},
   "source": [
    "Multiclass classification in Keras has some special requirements. The labels should be binarized or one-hot encoded. The final output layer must have a number of nodes equal to the number of classes and an activation function of ‘softmax.’ When compiling the model, the loss function should be ‘categorical_crossentropy.’ When evaluating the model using Sci-kit Learn metrics functions, it is first necessary to convert the 2-dimensional prediction and label arrays to one dimension by using np.argmax(data, axis=1). Once these are done, you can proceed with evaluation in the same way as you would with traditional Sci-kit Learn models.\r\n",
    "\r\n"
   ]
  }
 ],
 "metadata": {
  "kernelspec": {
   "display_name": "Python 3 (ipykernel)",
   "language": "python",
   "name": "python3"
  },
  "language_info": {
   "codemirror_mode": {
    "name": "ipython",
    "version": 3
   },
   "file_extension": ".py",
   "mimetype": "text/x-python",
   "name": "python",
   "nbconvert_exporter": "python",
   "pygments_lexer": "ipython3",
   "version": "3.10.10"
  },
  "widgets": {
   "application/vnd.jupyter.widget-state+json": {
    "state": {},
    "version_major": 2,
    "version_minor": 0
   }
  }
 },
 "nbformat": 4,
 "nbformat_minor": 5
}
