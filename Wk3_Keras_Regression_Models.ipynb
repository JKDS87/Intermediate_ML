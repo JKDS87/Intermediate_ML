{
 "cells": [
  {
   "cell_type": "markdown",
   "id": "32b8ab16-b162-4922-8816-4c5ea658f5fe",
   "metadata": {},
   "source": [
    "# Regression Models in Keras"
   ]
  },
  {
   "cell_type": "markdown",
   "id": "a76458a2-39b3-4466-8220-43f390936603",
   "metadata": {},
   "source": [
    "**Objective:** Build a forward-feed regression model in keras\n",
    "\n",
    "As you recall, a regression problem is one in which you try to predict a continuous value.  One example is predicting the miles-per-gallon that a vehicle may run for. Let’s try this in Keras.\n",
    "\n",
    "**In this lesson, we will:**\n",
    "1. Import necessary libraries.\n",
    "2. Load and process the data.\n",
    "3. Build a feed-forawrd regression model with an appropriate output layer and loss function.\n",
    "4. Evaluate the model using regression metrics."
   ]
  },
  {
   "cell_type": "markdown",
   "id": "b92d1b7d-bcff-4cd0-8809-232bcd1c346b",
   "metadata": {},
   "source": [
    "## Libraries, functions"
   ]
  },
  {
   "cell_type": "code",
   "execution_count": 1,
   "id": "63b89a43-b8ab-4bfc-9ae1-624d4ff72bde",
   "metadata": {},
   "outputs": [],
   "source": [
    "# Imports\n",
    "import pandas as pd\r\n",
    "import numpy as np\r\n",
    "import matplotlib.pyplot as plt\r\n",
    " \r\n",
    "# Keras\r\n",
    "from tensorflow.keras import Sequential\r\n",
    "from tensorflow.keras import metrics\r\n",
    "from tensorflow.keras.layers import Dense, Dropout\r\n",
    " \r\n",
    "# Sci-kit learn\r\n",
    "from sklearn.metrics import mean_squared_error, r2_score, mean_absolute_error\r\n",
    "from sklearn.preprocessing import StandardScaler, OneHotEncoder\r\n",
    "from sklearn.compose import ColumnTransformer\r\n",
    "from sklearn.pipeline import make_pipeline\r\n",
    "from sklearn.impute import SimpleImputer\r\n",
    "from sklearn.model_selection import train_test_split\r\n",
    "\r\n",
    "# Set pandas as the default output for sklearn\r\n",
    "from sklearn import set_config\r\n",
    "set_config(transform_output='pandas')"
   ]
  },
  {
   "cell_type": "code",
   "execution_count": 2,
   "id": "ff02c410-a96c-46a8-b200-d7523d9ee581",
   "metadata": {},
   "outputs": [],
   "source": [
    "# Custom function for plotting each metric\n",
    "def plot_history(history, figsize=(6,12), marker='o'):\n",
    "       \n",
    "    # Get list of metrics from history\n",
    "    metrics = [c for c in history.history if not c.startswith('val_')]\n",
    "    \n",
    "    ## Separate row for each metric\n",
    "    fig, axes = plt.subplots(nrows=len(metrics),figsize=figsize)\n",
    "    \n",
    "    # For each metric\n",
    "    for i, metric_name in enumerate(metrics):\n",
    "    \n",
    "        # Get the axis for the current metric\n",
    "        ax = axes[i]\n",
    "    \n",
    "        # Get metric from history.history\n",
    "        metric_values = history.history[metric_name]\n",
    "        # Get epochs from history\n",
    "        epochs = history.epoch\n",
    "    \n",
    "        # Plot the training metric\n",
    "        ax.plot(epochs, metric_values, label=metric_name, marker=marker)\n",
    "    \n",
    "        ## Check if val_{metric} exists. if so, plot:\n",
    "        val_metric_name = f\"val_{metric_name}\"\n",
    "        if val_metric_name in history.history:\n",
    "            # Get validation values and plot\n",
    "            metric_values = history.history[val_metric_name]\n",
    "            ax.plot(epochs,metric_values,label=val_metric_name, marker=marker)\n",
    "    \n",
    "        # Final subplot adjustments \n",
    "        ax.legend()\n",
    "        ax.set_title(metric_name)\n",
    "    fig.tight_layout()\n",
    "\n",
    "    return fig, axes"
   ]
  },
  {
   "cell_type": "markdown",
   "id": "9cb62570-924d-427f-8dbb-2bbd7fdd28f0",
   "metadata": {},
   "source": [
    "## Load and preprocess data"
   ]
  },
  {
   "cell_type": "markdown",
   "id": "7465f32e-93ed-40f6-8af0-9c6fa150a3db",
   "metadata": {},
   "source": [
    "The data we will be using for this model is hosted by the University of Irvine Machine Learning Repository. According to the original paper that presented the data:\r\n",
    "\r\n",
    "\"The data concerns city-cycle fuel consumption in miles per gallon, to be predicted in terms of 3 multivalued discrete and 5 continuous attributes.\" (Quinlan, 1993)\r\n",
    "\r\n",
    "The data contains both continuous and discrete (categorical) features. Since the categories are numeric, Pandas will import them as integer types, but we will one-hot encode them."
   ]
  },
  {
   "cell_type": "code",
   "execution_count": 4,
   "id": "b4abe5e7-1063-4e4e-bbcb-f7f481cfe2f7",
   "metadata": {},
   "outputs": [
    {
     "data": {
      "text/html": [
       "<div>\n",
       "<style scoped>\n",
       "    .dataframe tbody tr th:only-of-type {\n",
       "        vertical-align: middle;\n",
       "    }\n",
       "\n",
       "    .dataframe tbody tr th {\n",
       "        vertical-align: top;\n",
       "    }\n",
       "\n",
       "    .dataframe thead th {\n",
       "        text-align: right;\n",
       "    }\n",
       "</style>\n",
       "<table border=\"1\" class=\"dataframe\">\n",
       "  <thead>\n",
       "    <tr style=\"text-align: right;\">\n",
       "      <th></th>\n",
       "      <th>mpg</th>\n",
       "      <th>cylinders</th>\n",
       "      <th>displacement</th>\n",
       "      <th>horsepower</th>\n",
       "      <th>weight</th>\n",
       "      <th>acceleration</th>\n",
       "      <th>model year</th>\n",
       "      <th>origin</th>\n",
       "    </tr>\n",
       "  </thead>\n",
       "  <tbody>\n",
       "    <tr>\n",
       "      <th>0</th>\n",
       "      <td>18.0</td>\n",
       "      <td>8</td>\n",
       "      <td>307.0</td>\n",
       "      <td>130</td>\n",
       "      <td>3504</td>\n",
       "      <td>12.0</td>\n",
       "      <td>70</td>\n",
       "      <td>1</td>\n",
       "    </tr>\n",
       "    <tr>\n",
       "      <th>1</th>\n",
       "      <td>15.0</td>\n",
       "      <td>8</td>\n",
       "      <td>350.0</td>\n",
       "      <td>165</td>\n",
       "      <td>3693</td>\n",
       "      <td>11.5</td>\n",
       "      <td>70</td>\n",
       "      <td>1</td>\n",
       "    </tr>\n",
       "    <tr>\n",
       "      <th>2</th>\n",
       "      <td>18.0</td>\n",
       "      <td>8</td>\n",
       "      <td>318.0</td>\n",
       "      <td>150</td>\n",
       "      <td>3436</td>\n",
       "      <td>11.0</td>\n",
       "      <td>70</td>\n",
       "      <td>1</td>\n",
       "    </tr>\n",
       "    <tr>\n",
       "      <th>3</th>\n",
       "      <td>16.0</td>\n",
       "      <td>8</td>\n",
       "      <td>304.0</td>\n",
       "      <td>150</td>\n",
       "      <td>3433</td>\n",
       "      <td>12.0</td>\n",
       "      <td>70</td>\n",
       "      <td>1</td>\n",
       "    </tr>\n",
       "    <tr>\n",
       "      <th>4</th>\n",
       "      <td>17.0</td>\n",
       "      <td>8</td>\n",
       "      <td>302.0</td>\n",
       "      <td>140</td>\n",
       "      <td>3449</td>\n",
       "      <td>10.5</td>\n",
       "      <td>70</td>\n",
       "      <td>1</td>\n",
       "    </tr>\n",
       "  </tbody>\n",
       "</table>\n",
       "</div>"
      ],
      "text/plain": [
       "    mpg  cylinders  displacement  horsepower  weight  acceleration  \\\n",
       "0  18.0          8         307.0         130    3504          12.0   \n",
       "1  15.0          8         350.0         165    3693          11.5   \n",
       "2  18.0          8         318.0         150    3436          11.0   \n",
       "3  16.0          8         304.0         150    3433          12.0   \n",
       "4  17.0          8         302.0         140    3449          10.5   \n",
       "\n",
       "   model year  origin  \n",
       "0          70       1  \n",
       "1          70       1  \n",
       "2          70       1  \n",
       "3          70       1  \n",
       "4          70       1  "
      ]
     },
     "execution_count": 4,
     "metadata": {},
     "output_type": "execute_result"
    }
   ],
   "source": [
    "# Import data\n",
    "reg_url = 'https://docs.google.com/spreadsheets/d/e/2PACX-1vTg36jLawSOgGP9hp0oJ3OYZiHMWbuGLiau-8DMjtcKNv7v9Zy_zFBQs9gZU-44GGeIyfXE2iwo26_z/pub?output=csv'\n",
    "df_reg = pd.read_csv(reg_url)\n",
    " \n",
    "# Drop car name columns\n",
    "df_reg = df_reg.drop(columns='car name')\n",
    "df_reg.head()"
   ]
  },
  {
   "cell_type": "code",
   "execution_count": 5,
   "id": "56dcbd92-a28d-4bff-951a-5fea81580c98",
   "metadata": {},
   "outputs": [
    {
     "name": "stdout",
     "output_type": "stream",
     "text": [
      "<class 'pandas.core.frame.DataFrame'>\n",
      "RangeIndex: 392 entries, 0 to 391\n",
      "Data columns (total 8 columns):\n",
      " #   Column        Non-Null Count  Dtype  \n",
      "---  ------        --------------  -----  \n",
      " 0   mpg           392 non-null    float64\n",
      " 1   cylinders     392 non-null    int64  \n",
      " 2   displacement  392 non-null    float64\n",
      " 3   horsepower    392 non-null    int64  \n",
      " 4   weight        392 non-null    int64  \n",
      " 5   acceleration  392 non-null    float64\n",
      " 6   model year    392 non-null    int64  \n",
      " 7   origin        392 non-null    int64  \n",
      "dtypes: float64(3), int64(5)\n",
      "memory usage: 24.6 KB\n",
      "missing values None\n",
      "\n",
      "duplicated rows 0\n"
     ]
    }
   ],
   "source": [
    "# Check missing values and duplicates\n",
    "print('missing values', df_reg.info())\n",
    "print('\\nduplicated rows', df_reg.duplicated().sum())"
   ]
  },
  {
   "cell_type": "code",
   "execution_count": 6,
   "id": "ff37c718-734e-4d9b-adf4-0de73eb12cdc",
   "metadata": {},
   "outputs": [],
   "source": [
    "# Split data\n",
    "X = df_reg.drop(columns='mpg')\n",
    "y = df_reg['mpg']\n",
    "X_train, X_test, y_train, y_test = train_test_split(X, y, random_state = 42)"
   ]
  },
  {
   "cell_type": "markdown",
   "id": "fa31da9e-1507-4852-88ea-fd3293dde7e4",
   "metadata": {},
   "source": [
    "**Preprocess**"
   ]
  },
  {
   "cell_type": "code",
   "execution_count": 7,
   "id": "ad90c63d-8e5e-48b1-8f94-7d21a752cebe",
   "metadata": {},
   "outputs": [
    {
     "data": {
      "text/html": [
       "<div>\n",
       "<style scoped>\n",
       "    .dataframe tbody tr th:only-of-type {\n",
       "        vertical-align: middle;\n",
       "    }\n",
       "\n",
       "    .dataframe tbody tr th {\n",
       "        vertical-align: top;\n",
       "    }\n",
       "\n",
       "    .dataframe thead th {\n",
       "        text-align: right;\n",
       "    }\n",
       "</style>\n",
       "<table border=\"1\" class=\"dataframe\">\n",
       "  <thead>\n",
       "    <tr style=\"text-align: right;\">\n",
       "      <th></th>\n",
       "      <th>displacement</th>\n",
       "      <th>horsepower</th>\n",
       "      <th>weight</th>\n",
       "      <th>acceleration</th>\n",
       "      <th>cylinders_3</th>\n",
       "      <th>cylinders_4</th>\n",
       "      <th>cylinders_5</th>\n",
       "      <th>cylinders_6</th>\n",
       "      <th>cylinders_8</th>\n",
       "      <th>model year_70</th>\n",
       "      <th>...</th>\n",
       "      <th>model year_76</th>\n",
       "      <th>model year_77</th>\n",
       "      <th>model year_78</th>\n",
       "      <th>model year_79</th>\n",
       "      <th>model year_80</th>\n",
       "      <th>model year_81</th>\n",
       "      <th>model year_82</th>\n",
       "      <th>origin_1</th>\n",
       "      <th>origin_2</th>\n",
       "      <th>origin_3</th>\n",
       "    </tr>\n",
       "  </thead>\n",
       "  <tbody>\n",
       "    <tr>\n",
       "      <th>265</th>\n",
       "      <td>-0.588476</td>\n",
       "      <td>-0.245826</td>\n",
       "      <td>-0.490076</td>\n",
       "      <td>-0.458303</td>\n",
       "      <td>0.0</td>\n",
       "      <td>1.0</td>\n",
       "      <td>0.0</td>\n",
       "      <td>0.0</td>\n",
       "      <td>0.0</td>\n",
       "      <td>0.0</td>\n",
       "      <td>...</td>\n",
       "      <td>0.0</td>\n",
       "      <td>0.0</td>\n",
       "      <td>1.0</td>\n",
       "      <td>0.0</td>\n",
       "      <td>0.0</td>\n",
       "      <td>0.0</td>\n",
       "      <td>0.0</td>\n",
       "      <td>0.0</td>\n",
       "      <td>0.0</td>\n",
       "      <td>1.0</td>\n",
       "    </tr>\n",
       "    <tr>\n",
       "      <th>16</th>\n",
       "      <td>0.033663</td>\n",
       "      <td>-0.193925</td>\n",
       "      <td>-0.235417</td>\n",
       "      <td>-0.002504</td>\n",
       "      <td>0.0</td>\n",
       "      <td>0.0</td>\n",
       "      <td>0.0</td>\n",
       "      <td>1.0</td>\n",
       "      <td>0.0</td>\n",
       "      <td>1.0</td>\n",
       "      <td>...</td>\n",
       "      <td>0.0</td>\n",
       "      <td>0.0</td>\n",
       "      <td>0.0</td>\n",
       "      <td>0.0</td>\n",
       "      <td>0.0</td>\n",
       "      <td>0.0</td>\n",
       "      <td>0.0</td>\n",
       "      <td>1.0</td>\n",
       "      <td>0.0</td>\n",
       "      <td>0.0</td>\n",
       "    </tr>\n",
       "    <tr>\n",
       "      <th>66</th>\n",
       "      <td>2.235078</td>\n",
       "      <td>2.686610</td>\n",
       "      <td>1.976787</td>\n",
       "      <td>-1.580270</td>\n",
       "      <td>0.0</td>\n",
       "      <td>0.0</td>\n",
       "      <td>0.0</td>\n",
       "      <td>0.0</td>\n",
       "      <td>1.0</td>\n",
       "      <td>0.0</td>\n",
       "      <td>...</td>\n",
       "      <td>0.0</td>\n",
       "      <td>0.0</td>\n",
       "      <td>0.0</td>\n",
       "      <td>0.0</td>\n",
       "      <td>0.0</td>\n",
       "      <td>0.0</td>\n",
       "      <td>0.0</td>\n",
       "      <td>1.0</td>\n",
       "      <td>0.0</td>\n",
       "      <td>0.0</td>\n",
       "    </tr>\n",
       "    <tr>\n",
       "      <th>158</th>\n",
       "      <td>0.339946</td>\n",
       "      <td>0.143435</td>\n",
       "      <td>1.112849</td>\n",
       "      <td>1.925875</td>\n",
       "      <td>0.0</td>\n",
       "      <td>0.0</td>\n",
       "      <td>0.0</td>\n",
       "      <td>1.0</td>\n",
       "      <td>0.0</td>\n",
       "      <td>0.0</td>\n",
       "      <td>...</td>\n",
       "      <td>0.0</td>\n",
       "      <td>0.0</td>\n",
       "      <td>0.0</td>\n",
       "      <td>0.0</td>\n",
       "      <td>0.0</td>\n",
       "      <td>0.0</td>\n",
       "      <td>0.0</td>\n",
       "      <td>1.0</td>\n",
       "      <td>0.0</td>\n",
       "      <td>0.0</td>\n",
       "    </tr>\n",
       "    <tr>\n",
       "      <th>7</th>\n",
       "      <td>2.340363</td>\n",
       "      <td>2.868265</td>\n",
       "      <td>1.594798</td>\n",
       "      <td>-2.456806</td>\n",
       "      <td>0.0</td>\n",
       "      <td>0.0</td>\n",
       "      <td>0.0</td>\n",
       "      <td>0.0</td>\n",
       "      <td>1.0</td>\n",
       "      <td>1.0</td>\n",
       "      <td>...</td>\n",
       "      <td>0.0</td>\n",
       "      <td>0.0</td>\n",
       "      <td>0.0</td>\n",
       "      <td>0.0</td>\n",
       "      <td>0.0</td>\n",
       "      <td>0.0</td>\n",
       "      <td>0.0</td>\n",
       "      <td>1.0</td>\n",
       "      <td>0.0</td>\n",
       "      <td>0.0</td>\n",
       "    </tr>\n",
       "  </tbody>\n",
       "</table>\n",
       "<p>5 rows × 25 columns</p>\n",
       "</div>"
      ],
      "text/plain": [
       "     displacement  horsepower    weight  acceleration  cylinders_3  \\\n",
       "265     -0.588476   -0.245826 -0.490076     -0.458303          0.0   \n",
       "16       0.033663   -0.193925 -0.235417     -0.002504          0.0   \n",
       "66       2.235078    2.686610  1.976787     -1.580270          0.0   \n",
       "158      0.339946    0.143435  1.112849      1.925875          0.0   \n",
       "7        2.340363    2.868265  1.594798     -2.456806          0.0   \n",
       "\n",
       "     cylinders_4  cylinders_5  cylinders_6  cylinders_8  model year_70  ...  \\\n",
       "265          1.0          0.0          0.0          0.0            0.0  ...   \n",
       "16           0.0          0.0          1.0          0.0            1.0  ...   \n",
       "66           0.0          0.0          0.0          1.0            0.0  ...   \n",
       "158          0.0          0.0          1.0          0.0            0.0  ...   \n",
       "7            0.0          0.0          0.0          1.0            1.0  ...   \n",
       "\n",
       "     model year_76  model year_77  model year_78  model year_79  \\\n",
       "265            0.0            0.0            1.0            0.0   \n",
       "16             0.0            0.0            0.0            0.0   \n",
       "66             0.0            0.0            0.0            0.0   \n",
       "158            0.0            0.0            0.0            0.0   \n",
       "7              0.0            0.0            0.0            0.0   \n",
       "\n",
       "     model year_80  model year_81  model year_82  origin_1  origin_2  origin_3  \n",
       "265            0.0            0.0            0.0       0.0       0.0       1.0  \n",
       "16             0.0            0.0            0.0       1.0       0.0       0.0  \n",
       "66             0.0            0.0            0.0       1.0       0.0       0.0  \n",
       "158            0.0            0.0            0.0       1.0       0.0       0.0  \n",
       "7              0.0            0.0            0.0       1.0       0.0       0.0  \n",
       "\n",
       "[5 rows x 25 columns]"
      ]
     },
     "execution_count": 7,
     "metadata": {},
     "output_type": "execute_result"
    }
   ],
   "source": [
    "# lists of columns for transformer\n",
    "cat_cols = ['cylinders','model year','origin']\n",
    "num_cols = X_train.columns.drop(cat_cols)\n",
    "\n",
    "# PREPROCESSING PIPELINE FOR NUMERIC DATA\n",
    "\n",
    "# instantiate preprocessors\n",
    "scaler = StandardScaler()\n",
    "# Make a numeric preprocessing pipeline\n",
    "num_pipe = make_pipeline(scaler)\n",
    "# Making a numeric tuple for ColumnTransformer\n",
    "num_tuple = ('numeric', num_pipe, num_cols)\n",
    "\n",
    "\n",
    "# PREPROCESSING PIPELINE FOR ONE-HOT-ENCODED DATA\n",
    "\n",
    "# Instantiate the individual preprocessors\n",
    "ohe_encoder = OneHotEncoder(sparse_output=False, handle_unknown='ignore')\n",
    "# Make pipeline with imputer and encoder\n",
    "ohe_pipe = make_pipeline(ohe_encoder)\n",
    "# Making a ohe_tuple for ColumnTransformer\n",
    "ohe_tuple = ('categorical', ohe_pipe, cat_cols)\n",
    "\n",
    "# Instantiate with verbose_feature_names_out=False\n",
    "col_transformer = ColumnTransformer([num_tuple, ohe_tuple],\n",
    "                                    verbose_feature_names_out=False)\n",
    "# Fit on training data\n",
    "col_transformer.fit(X_train)\n",
    "\n",
    "# Transform the training data\n",
    "X_train_tf = col_transformer.transform(X_train)\n",
    "# Transform the testing data\n",
    "X_test_tf = col_transformer.transform(X_test)\n",
    "# View the processed training data\n",
    "X_train_tf.head()"
   ]
  },
  {
   "cell_type": "markdown",
   "id": "5ab94cd0-6a4d-430d-b4b0-0aff131d2eb1",
   "metadata": {},
   "source": [
    "## Build and train model"
   ]
  },
  {
   "cell_type": "code",
   "execution_count": 8,
   "id": "61dd0bda-c401-4715-8a49-ce35d5311bdf",
   "metadata": {},
   "outputs": [
    {
     "data": {
      "text/plain": [
       "25"
      ]
     },
     "execution_count": 8,
     "metadata": {},
     "output_type": "execute_result"
    }
   ],
   "source": [
    "# First, let's define shape\n",
    "input_shape = X_train_tf.shape[1]\n",
    "input_shape"
   ]
  },
  {
   "cell_type": "markdown",
   "id": "fb2e9788-9491-424c-9317-5e5e2bf65d0b",
   "metadata": {},
   "source": [
    "We will set the input dimensions to the number of columns in our processed data so Keras can construct an implicit input layer. We will then construct a fairly small model with two hidden layers and 10 nodes in each layer.\n",
    "\n",
    "Since this is a regression model, the final layer should have one node and a linear activation function.  We will also include a dropout layer.\n",
    "\n",
    "**Loss**\n",
    "\n",
    "We need to be sure to use a regression metric for the loss function. A loss function must always decrease as the model error decreases. For this reason, for instance, R2 would not work as a loss function since it increases as the model learns.\n",
    "\n",
    "Most deep-learning regression models will use MSE as the loss functions.\n",
    "\n",
    "**Optimizer**\n",
    "\n",
    "Optimizers are optional but can speed up learning. The ‘Adam’ optimizer is popular for all model types that use gradient descent for learning.\n",
    "\n",
    "If you want to know more, you can refer to the documentation. https://keras.io/api/optimizers/\n",
    "\n",
    "**Metrics**\n",
    "\n",
    "We can, optionally, add a list of metrics to our compile call, and the model will keep track of how those metrics change in each epoch. Some metrics are accessible as string shortcuts, such as ‘mse,’ but others must be instantiated as metrics classes, like:\n",
    "\n",
    "metrics.MeanAbsoluteError()\n",
    "\n",
    "This is different from Sci-kit Learn. In Sci-kit Learn, we used functions to return metrics, but Keras expects classes that are instantiated for each model. This is because, behind the scenes, these class instances will be fit on the specific data so they can make calculations more quickly. Tensorflow is all about efficiency! The history of these metrics for each epoch will be stored in a dictionary returned by the .fit() method.\n",
    "\n",
    "A list of available metrics can be found at: https://keras.io/api/metrics/\n",
    "\n",
    "We will build our model within a function.​"
   ]
  },
  {
   "cell_type": "code",
   "execution_count": 10,
   "id": "a9d9bd94-70dd-415b-b165-feca332c1553",
   "metadata": {},
   "outputs": [],
   "source": [
    "# Build regression model within function\n",
    "def build_model():\n",
    "    # Instantiate Model \n",
    "    model = Sequential()\n",
    "    \n",
    "    # First hidden layer\n",
    "    model.add(Dense(10, # How many neurons you have in your first hidden layer\n",
    "                input_dim =input_shape, # What is the shape of your input features (number of columns)\n",
    "                activation = 'relu')) # What activation function are you using?\n",
    "    model.add(Dense(10, \n",
    "                activation = 'relu'))\n",
    "    model.add(Dropout(.2))\n",
    "    model.add(Dense(1, activation = 'linear'))\n",
    "    \n",
    "    # Compile Model\n",
    "    model.compile(loss = 'mse', optimizer = 'adam',\n",
    "             metrics=[metrics.MeanAbsoluteError(), metrics.RootMeanSquaredError()])\n",
    "    return model"
   ]
  },
  {
   "cell_type": "code",
   "execution_count": 11,
   "id": "9dd56a13-641f-4dce-991c-4bcfb3108640",
   "metadata": {},
   "outputs": [
    {
     "name": "stdout",
     "output_type": "stream",
     "text": [
      "Model: \"sequential\"\n",
      "_________________________________________________________________\n",
      " Layer (type)                Output Shape              Param #   \n",
      "=================================================================\n",
      " dense (Dense)               (None, 10)                260       \n",
      "                                                                 \n",
      " dense_1 (Dense)             (None, 10)                110       \n",
      "                                                                 \n",
      " dropout (Dropout)           (None, 10)                0         \n",
      "                                                                 \n",
      " dense_2 (Dense)             (None, 1)                 11        \n",
      "                                                                 \n",
      "=================================================================\n",
      "Total params: 381\n",
      "Trainable params: 381\n",
      "Non-trainable params: 0\n",
      "_________________________________________________________________\n"
     ]
    }
   ],
   "source": [
    "## Now, call our function and check out our model sumamry.\n",
    "# Call our build function to build model\n",
    "reg_model = build_model()\n",
    "\n",
    "# Get model summary\n",
    "reg_model.summary()"
   ]
  },
  {
   "cell_type": "markdown",
   "id": "466e6780-7d05-407e-b429-b29aa709f69a",
   "metadata": {},
   "source": [
    "Now, define an early stopping callback."
   ]
  },
  {
   "cell_type": "code",
   "execution_count": 13,
   "id": "d6628451-7743-47f2-9ff5-415fa9cb35c0",
   "metadata": {},
   "outputs": [],
   "source": [
    "from tensorflow.keras.callbacks import EarlyStopping\n",
    "early_stop = EarlyStopping(monitor='val_loss', patience=3)"
   ]
  },
  {
   "cell_type": "markdown",
   "id": "53f8d00e-5d1a-4b55-a504-333ea1f7ac24",
   "metadata": {},
   "source": [
    "Next, we fit the model and save the learning history. We will set the verbosity to 0 to avoid the long, epoch by epoch output, but you can change that if you like to see the numbers go by during training."
   ]
  },
  {
   "cell_type": "code",
   "execution_count": 14,
   "id": "ab0158f2-c2d3-4256-9ada-e3abaff32c54",
   "metadata": {},
   "outputs": [],
   "source": [
    "history = reg_model.fit(X_train_tf, y_train,\n",
    "                        validation_split = .2,\n",
    "                        epochs=100,\n",
    "                        verbose=0, callbacks = [early_stop])"
   ]
  },
  {
   "cell_type": "markdown",
   "id": "22ffe939-a220-4970-aa2e-ca71580485cf",
   "metadata": {},
   "source": [
    "We can plot the learning history for the loss function and the metrics we asked the model to keep track of in the .compile() call. These are all stored in the history dictionary."
   ]
  },
  {
   "cell_type": "code",
   "execution_count": 15,
   "id": "23faa3c9-5dae-49a9-aa1d-081a46a03fa6",
   "metadata": {},
   "outputs": [
    {
     "data": {
      "image/png": "[encoded data removed]",
      "text/plain": [
       "<Figure size 600x1200 with 3 Axes>"
      ]
     },
     "metadata": {},
     "output_type": "display_data"
    }
   ],
   "source": [
    "# plot learning \n",
    "plot_history(history);"
   ]
  },
  {
   "cell_type": "markdown",
   "id": "71b15bd3-adc0-40f5-a6f3-27a394ca1572",
   "metadata": {},
   "source": [
    "This model has a nice hockey-stick-shaped learning curve, and the final training and testing scores are similar. It does not seem to suffer greatly from overfitting or underfitting. However, let’s check the metrics using Sci-kit learn metrics functions to get some solid numbers.\n",
    "\n",
    "Evaluating a final regression model in Keras is similar to evaluating a more traditional Sci-kit Learn model."
   ]
  },
  {
   "cell_type": "code",
   "execution_count": 16,
   "id": "34ffce0a-ed37-45bb-8cc3-8e81dd3d63d0",
   "metadata": {},
   "outputs": [
    {
     "name": "stdout",
     "output_type": "stream",
     "text": [
      "4/4 [==============================] - 0s 2ms/step\n",
      "final RMSE: 3.4288079293238036\n",
      "final MAE: 2.6513723081471974\n",
      "final R2: 0.7668848244164597\n"
     ]
    }
   ],
   "source": [
    "# Evaluate model\n",
    "y_pred = reg_model.predict(X_test_tf)\n",
    " \n",
    "print(f'final RMSE: {np.sqrt(mean_squared_error(y_test, y_pred))}')\n",
    "print(f'final MAE: {mean_absolute_error(y_test, y_pred)}')\n",
    "print(f'final R2: {r2_score(y_test, y_pred)}')"
   ]
  },
  {
   "cell_type": "markdown",
   "id": "41f02c54-21f0-43d3-b6cb-11ee78f815dd",
   "metadata": {},
   "source": [
    "The R2 score shows us that our model is explaining about **77%** of the variance in the target, the mean absolute error shows us that our model tends to make an error of about 2 miles per gallon, and since the root mean squared error is not much higher than the mean absolute error, this shows us that it has not made many large errors.\n",
    "\n",
    "**Note**: due to the stochastic nature of deep learning models, results may vary from descriptions."
   ]
  },
  {
   "cell_type": "markdown",
   "id": "e3452eba-ce4d-4277-8c03-18505caf9aa7",
   "metadata": {},
   "source": [
    "## Summary"
   ]
  },
  {
   "cell_type": "markdown",
   "id": "5ed37024-6b60-4004-915b-6abdd18b511d",
   "metadata": {},
   "source": [
    "When constructing a deep learning model for regression, having the right output layer, loss function, and metrics is important. The output layer should have one node and use a linear activation. The loss function should be MSE or another regression metric that reduces as the model improves. You can add metrics to track learning during the .compile() call by instantiating metric class instances. The final evaluation of a deep learning model is very similar to the final evaluation of a traditional Sci-kit Learn model, and you can use the same functions from the sklearn.metrics package.\r\n",
    "\r\n"
   ]
  }
 ],
 "metadata": {
  "kernelspec": {
   "display_name": "Python 3 (ipykernel)",
   "language": "python",
   "name": "python3"
  },
  "language_info": {
   "codemirror_mode": {
    "name": "ipython",
    "version": 3
   },
   "file_extension": ".py",
   "mimetype": "text/x-python",
   "name": "python",
   "nbconvert_exporter": "python",
   "pygments_lexer": "ipython3",
   "version": "3.10.10"
  },
  "widgets": {
   "application/vnd.jupyter.widget-state+json": {
    "state": {},
    "version_major": 2,
    "version_minor": 0
   }
  }
 },
 "nbformat": 4,
 "nbformat_minor": 5
}
