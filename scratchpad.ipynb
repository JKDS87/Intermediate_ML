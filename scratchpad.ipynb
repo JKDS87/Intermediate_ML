{
 "cells": [
  {
   "cell_type": "code",
   "execution_count": null,
   "id": "77f70ea7-f33f-4585-b808-21fd32aa0674",
   "metadata": {},
   "outputs": [],
   "source": [
    "price_floorplan = cluster_groups[['SalePrice', 'SqFt2ndFloor', 'SqFtUpperFloor', 'SqFtTotBasement']]"
   ]
  },
  {
   "cell_type": "code",
   "execution_count": null,
   "id": "aeb299d2-af7a-40e1-9c4d-31eabb880f40",
   "metadata": {},
   "outputs": [],
   "source": []
  },
  {
   "cell_type": "code",
   "execution_count": null,
   "id": "af608261-d4a3-417d-af28-03e3c9bddec8",
   "metadata": {},
   "outputs": [],
   "source": []
  },
  {
   "cell_type": "code",
   "execution_count": null,
   "id": "64e43aa5-e7ab-4502-a45b-eac65834af23",
   "metadata": {},
   "outputs": [],
   "source": []
  },
  {
   "cell_type": "markdown",
   "id": "775fc161-a8df-413e-ba19-b2dd65a42c5b",
   "metadata": {},
   "source": [
    "### Group 0"
   ]
  },
  {
   "cell_type": "markdown",
   "id": "43cd8ad7-f019-41bd-8160-12fbb8b89d01",
   "metadata": {},
   "source": [
    "- **Lowest home values**\n",
    "- Modest sqft on main floor, but some have half-floor sqft.\n",
    "- No second floors, low chance of basement\n",
    "- low chance of attached garage\n",
    "- small chance of open porch, higher chance of enclosed porch but still low values\n",
    "- almost no chance of deck\n",
    "- tied for top with chance of brick/stone\n",
    "- lowest number of mean bedrooms\n",
    "- lowest count on full bath, very low chance of secon/half baths\n",
    "- **oldest homest**"
   ]
  },
  {
   "cell_type": "markdown",
   "id": "328a7b0b-7629-4a46-bee2-2740814f5a23",
   "metadata": {},
   "source": [
    "### Group 1"
   ]
  },
  {
   "cell_type": "markdown",
   "id": "0274c816-b361-43a6-a13a-08086fff98e4",
   "metadata": {},
   "source": [
    "- **Highest mean sale price**\n",
    "- Highest values for second floor sqft. at 1400. Significantly more than others\n",
    "- Highest value for attached garage. Significantly more than others\n",
    "- Only significant value for OPEN porch sqft, more than 4x others\n",
    "- Highest number of baths in full and half, edged out on 3/4 baths\n",
    "- Second newest homes"
   ]
  },
  {
   "cell_type": "markdown",
   "id": "31fb2716-f731-424f-afdb-83dabc2e458d",
   "metadata": {},
   "source": [
    "### Group 2"
   ]
  },
  {
   "cell_type": "markdown",
   "id": "755205f1-0e25-434a-aa6e-97c0116e417c",
   "metadata": {},
   "source": [
    "- Middle home values\n",
    "- second highest sqft for main and living\n",
    "- also likely to contain basement\n",
    "- almost no chance of upper floor\n",
    "- small chance of open porch, modest chance of enclosed\n",
    "- good chance of deck\n",
    "- highest comparative chance of stone/brick\n",
    "- second highest bedrooms\n",
    "- second highest baths, most 3/4 baths\n",
    "- third oldest"
   ]
  },
  {
   "cell_type": "markdown",
   "id": "b38902a3-34f5-4258-bfbd-974d1c03b7d8",
   "metadata": {},
   "source": [
    "#### Group 3"
   ]
  },
  {
   "cell_type": "markdown",
   "id": "7ee4b058-b930-4df1-a729-42ab5c4cd96f",
   "metadata": {},
   "source": [
    "- middle home values\n",
    "- likely contains second floor\n",
    "- almost no chance of garage or basement\n",
    "- highest value for enclosed porch\n",
    "- highest value for deck\n",
    "- lowest number of bedrooms\n",
    "- middle values on baths\n",
    "- **newest homes on average**"
   ]
  },
  {
   "cell_type": "markdown",
   "id": "e3ba9172-65e9-4e6b-a33c-ba4dad615229",
   "metadata": {},
   "source": []
  }
 ],
 "metadata": {
  "kernelspec": {
   "display_name": "Python 3 (ipykernel)",
   "language": "python",
   "name": "python3"
  },
  "language_info": {
   "codemirror_mode": {
    "name": "ipython",
    "version": 3
   },
   "file_extension": ".py",
   "mimetype": "text/x-python",
   "name": "python",
   "nbconvert_exporter": "python",
   "pygments_lexer": "ipython3",
   "version": "3.10.10"
  },
  "widgets": {
   "application/vnd.jupyter.widget-state+json": {
    "state": {},
    "version_major": 2,
    "version_minor": 0
   }
  }
 },
 "nbformat": 4,
 "nbformat_minor": 5
}
